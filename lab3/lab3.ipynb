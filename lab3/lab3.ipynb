{
  "nbformat": 4,
  "nbformat_minor": 0,
  "metadata": {
    "colab": {
      "name": "lab3.ipynb",
      "provenance": [],
      "collapsed_sections": []
    },
    "kernelspec": {
      "name": "python3",
      "display_name": "Python 3"
    },
    "language_info": {
      "name": "python"
    },
    "widgets": {
      "application/vnd.jupyter.widget-state+json": {
        "350817440a784e968b60fda744e21e51": {
          "model_module": "@jupyter-widgets/controls",
          "model_name": "HBoxModel",
          "model_module_version": "1.5.0",
          "state": {
            "_view_name": "HBoxView",
            "_dom_classes": [],
            "_model_name": "HBoxModel",
            "_view_module": "@jupyter-widgets/controls",
            "_model_module_version": "1.5.0",
            "_view_count": null,
            "_view_module_version": "1.5.0",
            "box_style": "",
            "layout": "IPY_MODEL_af505dd08da4420caf299d04e769262a",
            "_model_module": "@jupyter-widgets/controls",
            "children": [
              "IPY_MODEL_65e2103497ee450f922b67c053a1d3e4",
              "IPY_MODEL_0dab43a3a4b746418d8cd521177d36ff",
              "IPY_MODEL_a808954b9c2a492699649648d8dd6c6f"
            ]
          }
        },
        "af505dd08da4420caf299d04e769262a": {
          "model_module": "@jupyter-widgets/base",
          "model_name": "LayoutModel",
          "model_module_version": "1.2.0",
          "state": {
            "_view_name": "LayoutView",
            "grid_template_rows": null,
            "right": null,
            "justify_content": null,
            "_view_module": "@jupyter-widgets/base",
            "overflow": null,
            "_model_module_version": "1.2.0",
            "_view_count": null,
            "flex_flow": null,
            "width": null,
            "min_width": null,
            "border": null,
            "align_items": null,
            "bottom": null,
            "_model_module": "@jupyter-widgets/base",
            "top": null,
            "grid_column": null,
            "overflow_y": null,
            "overflow_x": null,
            "grid_auto_flow": null,
            "grid_area": null,
            "grid_template_columns": null,
            "flex": null,
            "_model_name": "LayoutModel",
            "justify_items": null,
            "grid_row": null,
            "max_height": null,
            "align_content": null,
            "visibility": null,
            "align_self": null,
            "height": null,
            "min_height": null,
            "padding": null,
            "grid_auto_rows": null,
            "grid_gap": null,
            "max_width": null,
            "order": null,
            "_view_module_version": "1.2.0",
            "grid_template_areas": null,
            "object_position": null,
            "object_fit": null,
            "grid_auto_columns": null,
            "margin": null,
            "display": null,
            "left": null
          }
        },
        "65e2103497ee450f922b67c053a1d3e4": {
          "model_module": "@jupyter-widgets/controls",
          "model_name": "HTMLModel",
          "model_module_version": "1.5.0",
          "state": {
            "_view_name": "HTMLView",
            "style": "IPY_MODEL_f8fd48fa2c7f4bc084138e61c8ff3526",
            "_dom_classes": [],
            "description": "",
            "_model_name": "HTMLModel",
            "placeholder": "​",
            "_view_module": "@jupyter-widgets/controls",
            "_model_module_version": "1.5.0",
            "value": "100%",
            "_view_count": null,
            "_view_module_version": "1.5.0",
            "description_tooltip": null,
            "_model_module": "@jupyter-widgets/controls",
            "layout": "IPY_MODEL_ec294f6e021440d89e4f2e7282a84cd9"
          }
        },
        "0dab43a3a4b746418d8cd521177d36ff": {
          "model_module": "@jupyter-widgets/controls",
          "model_name": "FloatProgressModel",
          "model_module_version": "1.5.0",
          "state": {
            "_view_name": "ProgressView",
            "style": "IPY_MODEL_6eb159445de04900aca88d01edae2a63",
            "_dom_classes": [],
            "description": "",
            "_model_name": "FloatProgressModel",
            "bar_style": "success",
            "max": 1500,
            "_view_module": "@jupyter-widgets/controls",
            "_model_module_version": "1.5.0",
            "value": 1500,
            "_view_count": null,
            "_view_module_version": "1.5.0",
            "orientation": "horizontal",
            "min": 0,
            "description_tooltip": null,
            "_model_module": "@jupyter-widgets/controls",
            "layout": "IPY_MODEL_7e14fa1e30f24c2097676e2223bfb7d0"
          }
        },
        "a808954b9c2a492699649648d8dd6c6f": {
          "model_module": "@jupyter-widgets/controls",
          "model_name": "HTMLModel",
          "model_module_version": "1.5.0",
          "state": {
            "_view_name": "HTMLView",
            "style": "IPY_MODEL_9be911049a504f1e9d1affc738333903",
            "_dom_classes": [],
            "description": "",
            "_model_name": "HTMLModel",
            "placeholder": "​",
            "_view_module": "@jupyter-widgets/controls",
            "_model_module_version": "1.5.0",
            "value": " 1500/1500 [00:14&lt;00:00, 85.49it/s]",
            "_view_count": null,
            "_view_module_version": "1.5.0",
            "description_tooltip": null,
            "_model_module": "@jupyter-widgets/controls",
            "layout": "IPY_MODEL_0619602d9c7e4477b0117bfef6e22c78"
          }
        },
        "f8fd48fa2c7f4bc084138e61c8ff3526": {
          "model_module": "@jupyter-widgets/controls",
          "model_name": "DescriptionStyleModel",
          "model_module_version": "1.5.0",
          "state": {
            "_view_name": "StyleView",
            "_model_name": "DescriptionStyleModel",
            "description_width": "",
            "_view_module": "@jupyter-widgets/base",
            "_model_module_version": "1.5.0",
            "_view_count": null,
            "_view_module_version": "1.2.0",
            "_model_module": "@jupyter-widgets/controls"
          }
        },
        "ec294f6e021440d89e4f2e7282a84cd9": {
          "model_module": "@jupyter-widgets/base",
          "model_name": "LayoutModel",
          "model_module_version": "1.2.0",
          "state": {
            "_view_name": "LayoutView",
            "grid_template_rows": null,
            "right": null,
            "justify_content": null,
            "_view_module": "@jupyter-widgets/base",
            "overflow": null,
            "_model_module_version": "1.2.0",
            "_view_count": null,
            "flex_flow": null,
            "width": null,
            "min_width": null,
            "border": null,
            "align_items": null,
            "bottom": null,
            "_model_module": "@jupyter-widgets/base",
            "top": null,
            "grid_column": null,
            "overflow_y": null,
            "overflow_x": null,
            "grid_auto_flow": null,
            "grid_area": null,
            "grid_template_columns": null,
            "flex": null,
            "_model_name": "LayoutModel",
            "justify_items": null,
            "grid_row": null,
            "max_height": null,
            "align_content": null,
            "visibility": null,
            "align_self": null,
            "height": null,
            "min_height": null,
            "padding": null,
            "grid_auto_rows": null,
            "grid_gap": null,
            "max_width": null,
            "order": null,
            "_view_module_version": "1.2.0",
            "grid_template_areas": null,
            "object_position": null,
            "object_fit": null,
            "grid_auto_columns": null,
            "margin": null,
            "display": null,
            "left": null
          }
        },
        "6eb159445de04900aca88d01edae2a63": {
          "model_module": "@jupyter-widgets/controls",
          "model_name": "ProgressStyleModel",
          "model_module_version": "1.5.0",
          "state": {
            "_view_name": "StyleView",
            "_model_name": "ProgressStyleModel",
            "description_width": "",
            "_view_module": "@jupyter-widgets/base",
            "_model_module_version": "1.5.0",
            "_view_count": null,
            "_view_module_version": "1.2.0",
            "bar_color": null,
            "_model_module": "@jupyter-widgets/controls"
          }
        },
        "7e14fa1e30f24c2097676e2223bfb7d0": {
          "model_module": "@jupyter-widgets/base",
          "model_name": "LayoutModel",
          "model_module_version": "1.2.0",
          "state": {
            "_view_name": "LayoutView",
            "grid_template_rows": null,
            "right": null,
            "justify_content": null,
            "_view_module": "@jupyter-widgets/base",
            "overflow": null,
            "_model_module_version": "1.2.0",
            "_view_count": null,
            "flex_flow": null,
            "width": null,
            "min_width": null,
            "border": null,
            "align_items": null,
            "bottom": null,
            "_model_module": "@jupyter-widgets/base",
            "top": null,
            "grid_column": null,
            "overflow_y": null,
            "overflow_x": null,
            "grid_auto_flow": null,
            "grid_area": null,
            "grid_template_columns": null,
            "flex": null,
            "_model_name": "LayoutModel",
            "justify_items": null,
            "grid_row": null,
            "max_height": null,
            "align_content": null,
            "visibility": null,
            "align_self": null,
            "height": null,
            "min_height": null,
            "padding": null,
            "grid_auto_rows": null,
            "grid_gap": null,
            "max_width": null,
            "order": null,
            "_view_module_version": "1.2.0",
            "grid_template_areas": null,
            "object_position": null,
            "object_fit": null,
            "grid_auto_columns": null,
            "margin": null,
            "display": null,
            "left": null
          }
        },
        "9be911049a504f1e9d1affc738333903": {
          "model_module": "@jupyter-widgets/controls",
          "model_name": "DescriptionStyleModel",
          "model_module_version": "1.5.0",
          "state": {
            "_view_name": "StyleView",
            "_model_name": "DescriptionStyleModel",
            "description_width": "",
            "_view_module": "@jupyter-widgets/base",
            "_model_module_version": "1.5.0",
            "_view_count": null,
            "_view_module_version": "1.2.0",
            "_model_module": "@jupyter-widgets/controls"
          }
        },
        "0619602d9c7e4477b0117bfef6e22c78": {
          "model_module": "@jupyter-widgets/base",
          "model_name": "LayoutModel",
          "model_module_version": "1.2.0",
          "state": {
            "_view_name": "LayoutView",
            "grid_template_rows": null,
            "right": null,
            "justify_content": null,
            "_view_module": "@jupyter-widgets/base",
            "overflow": null,
            "_model_module_version": "1.2.0",
            "_view_count": null,
            "flex_flow": null,
            "width": null,
            "min_width": null,
            "border": null,
            "align_items": null,
            "bottom": null,
            "_model_module": "@jupyter-widgets/base",
            "top": null,
            "grid_column": null,
            "overflow_y": null,
            "overflow_x": null,
            "grid_auto_flow": null,
            "grid_area": null,
            "grid_template_columns": null,
            "flex": null,
            "_model_name": "LayoutModel",
            "justify_items": null,
            "grid_row": null,
            "max_height": null,
            "align_content": null,
            "visibility": null,
            "align_self": null,
            "height": null,
            "min_height": null,
            "padding": null,
            "grid_auto_rows": null,
            "grid_gap": null,
            "max_width": null,
            "order": null,
            "_view_module_version": "1.2.0",
            "grid_template_areas": null,
            "object_position": null,
            "object_fit": null,
            "grid_auto_columns": null,
            "margin": null,
            "display": null,
            "left": null
          }
        }
      }
    }
  },
  "cells": [
    {
      "cell_type": "code",
      "metadata": {
        "id": "lUiyjUnh4bvY",
        "colab": {
          "base_uri": "https://localhost:8080/"
        },
        "outputId": "6315db44-e118-461a-f442-e11c657c7e19"
      },
      "source": [
        "import numpy as np\n",
        "import pandas as pd\n",
        "import torch.nn as nn\n",
        "import torch\n",
        "import matplotlib.pyplot as plt\n",
        "from sklearn.model_selection import train_test_split\n",
        "from torch.utils.data import Dataset, DataLoader\n",
        "from tqdm.notebook import tqdm\n",
        "\n",
        "from itertools import product\n",
        "\n",
        "np.random.seed(15)\n",
        "torch.manual_seed(15)"
      ],
      "execution_count": 113,
      "outputs": [
        {
          "output_type": "execute_result",
          "data": {
            "text/plain": [
              "<torch._C.Generator at 0x7f27213bf270>"
            ]
          },
          "metadata": {},
          "execution_count": 113
        }
      ]
    },
    {
      "cell_type": "code",
      "metadata": {
        "id": "brFlohIH1XIq"
      },
      "source": [
        "a1 = 0.4\n",
        "b1 = 0.15\n",
        "alpha1 = np.pi / 6\n",
        "x0_1 = 0\n",
        "y0_1 = 0\n",
        "\n",
        "a2 = 0.7\n",
        "b2 = 0.5\n",
        "alpha2 = 0\n",
        "x0_2 = 0\n",
        "y0_2 = 0\n",
        "\n",
        "a3 = 1\n",
        "b3 = 1\n",
        "alpha3 = 0\n",
        "x0_3 = 0\n",
        "y0_3 = 0"
      ],
      "execution_count": 155,
      "outputs": []
    },
    {
      "cell_type": "code",
      "metadata": {
        "id": "K64YMlpQ1PnT"
      },
      "source": [
        "\n",
        "def f(alpha, x0, a, t, y0, b):\n",
        "    return (x0 + a * np.cos(t)) * np.cos(alpha) + (y0 + b * np.sin(t)) * np.sin(alpha)\n",
        "\n",
        "def g(alpha, x0, a, t, y0, b):\n",
        "    return -(x0 + a * np.cos(t)) * np.sin(alpha) + (y0 + b * np.sin(t)) * np.cos(alpha)"
      ],
      "execution_count": 156,
      "outputs": []
    },
    {
      "cell_type": "code",
      "metadata": {
        "id": "DuI772Gk1x5X"
      },
      "source": [
        "t_set = np.arange(0, 2 * np.pi, 0.025)\n",
        "t_0 = np.random.choice(t_set, size=60, replace=False)\n",
        "t_1 = np.random.choice(t_set, size=100, replace=False)\n",
        "t_2 = np.random.choice(t_set, size=120, replace=False)"
      ],
      "execution_count": 157,
      "outputs": []
    },
    {
      "cell_type": "code",
      "metadata": {
        "id": "pmFJvPsd1UdO"
      },
      "source": [
        "x1 = f(alpha1, x0_1, a1, t_0, y0_1, b1)\n",
        "y1 = g(alpha1, x0_1, a1, t_0, y0_1, b1)\n",
        "\n",
        "x2 = f(alpha2, x0_2, a2, t_1, y0_2, b2)\n",
        "y2 = g(alpha2, x0_2, a2, t_1, y0_2, b2)\n",
        "\n",
        "x3 = f(alpha3, x0_3, a3, t_2, y0_3, b3)\n",
        "y3 = g(alpha3, x0_3, a3, t_2, y0_3, b3)"
      ],
      "execution_count": 158,
      "outputs": []
    },
    {
      "cell_type": "code",
      "metadata": {
        "colab": {
          "base_uri": "https://localhost:8080/",
          "height": 265
        },
        "id": "pyR3ZvpF57MF",
        "outputId": "34291814-96d1-4ae2-b007-4ad9fb7a7f01"
      },
      "source": [
        "\n",
        "\n",
        "plt.scatter(x1, y1, color='r', label='0')\n",
        "plt.scatter(x2, y2, color='g', label='1')\n",
        "plt.scatter(x3, y3, color='b', label='2')\n",
        "plt.legend()\n",
        "plt.show()"
      ],
      "execution_count": 159,
      "outputs": [
        {
          "output_type": "display_data",
          "data": {
            "image/png": "[encoded data removed]",
            "text/plain": [
              "<Figure size 432x288 with 1 Axes>"
            ]
          },
          "metadata": {
            "needs_background": "light"
          }
        }
      ]
    },
    {
      "cell_type": "markdown",
      "metadata": {
        "id": "biIn2JivP4K1"
      },
      "source": [
        "Разделение на выборки"
      ]
    },
    {
      "cell_type": "code",
      "metadata": {
        "id": "UZG8i4UT57Pv"
      },
      "source": [
        "# 70-20-10 split\n",
        "X_0 = np.vstack((x1, y1)).T\n",
        "Y_0 = np.zeros(shape=(60,))\n",
        "X_0_train, X_0_test, Y_0_train, Y_0_test = train_test_split(X_0, Y_0, test_size=0.3, random_state=13)\n",
        "X_0_val, X_0_test, Y_0_val, Y_0_test = train_test_split(X_0_test, Y_0_test, test_size=0.33, random_state=13)\n",
        "\n",
        "X_1 = np.vstack((x2, y2)).T\n",
        "Y_1 = np.ones(shape=(100,))\n",
        "X_1_train, X_1_test, Y_1_train, Y_1_test = train_test_split(X_1, Y_1, test_size=0.3, random_state=13)\n",
        "X_1_val, X_1_test, Y_1_val, Y_1_test = train_test_split(X_1_test, Y_1_test, test_size=0.33, random_state=13)\n",
        "\n",
        "X_2 = np.vstack((x3, y3)).T\n",
        "Y_2 = 2 * np.ones(shape=(120,))\n",
        "X_2_train, X_2_test, Y_2_train, Y_2_test = train_test_split(X_2, Y_2, test_size=0.3, random_state=13)\n",
        "X_2_val, X_2_test, Y_2_val, Y_2_test = train_test_split(X_2_test, Y_2_test, test_size=0.33, random_state=13)\n",
        "\n",
        "X_train = np.vstack((X_0_train, X_1_train, X_2_train))\n",
        "Y_train = np.concatenate((Y_0_train, Y_1_train, Y_2_train))\n",
        "X_val = np.vstack((X_0_val, X_1_val, X_2_val))\n",
        "Y_val = np.concatenate((Y_0_val, Y_1_val, Y_2_val))\n",
        "X_test = np.vstack((X_0_test, X_1_test, X_2_test))\n",
        "Y_test = np.concatenate((Y_0_test, Y_1_test, Y_2_test))"
      ],
      "execution_count": 163,
      "outputs": []
    },
    {
      "cell_type": "code",
      "metadata": {
        "id": "o01WWK7HZqCY"
      },
      "source": [
        "class data(Dataset):\n",
        "    def __init__(self, X, Y):\n",
        "        self.X = torch.from_numpy(X).float()\n",
        "        self.Y = torch.from_numpy(Y).long()\n",
        "\n",
        "    def __len__(self):\n",
        "        return self.X.shape[0]\n",
        "\n",
        "    def __getitem__(self, idx):\n",
        "        return self.X[idx, :], self.Y[idx]\n",
        "\n",
        "train_loader = DataLoader(dataset=data(X_train, Y_train), shuffle=True, batch_size=32)\n",
        "val_loader = DataLoader(dataset=data(X_val, Y_val), shuffle=False, batch_size=32)\n",
        "test_loader = DataLoader(dataset=data(X_test, Y_test), shuffle=False, batch_size=1)"
      ],
      "execution_count": 164,
      "outputs": []
    },
    {
      "cell_type": "code",
      "metadata": {
        "colab": {
          "base_uri": "https://localhost:8080/",
          "height": 304,
          "referenced_widgets": [
            "350817440a784e968b60fda744e21e51",
            "af505dd08da4420caf299d04e769262a",
            "65e2103497ee450f922b67c053a1d3e4",
            "0dab43a3a4b746418d8cd521177d36ff",
            "a808954b9c2a492699649648d8dd6c6f",
            "f8fd48fa2c7f4bc084138e61c8ff3526",
            "ec294f6e021440d89e4f2e7282a84cd9",
            "6eb159445de04900aca88d01edae2a63",
            "7e14fa1e30f24c2097676e2223bfb7d0",
            "9be911049a504f1e9d1affc738333903",
            "0619602d9c7e4477b0117bfef6e22c78"
          ]
        },
        "id": "GgnUZ6ka57SJ",
        "outputId": "a59be917-e068-4dd2-b09e-71fbd8cc9335"
      },
      "source": [
        "class feedforwardnet(nn.Module):\n",
        "    def __init__(self):\n",
        "        super().__init__()\n",
        "        self.hidden1 = nn.Linear(2, 20)\n",
        "        self.act = nn.ReLU()\n",
        "        self.output = nn.Linear(in_features=20, out_features=3)\n",
        "\n",
        "    def forward(self, x):\n",
        "        x = self.hidden1(x)\n",
        "        x = self.output(self.act(x))\n",
        "        return x\n",
        "\n",
        "model = feedforwardnet()\n",
        "optimizer = torch.optim.Rprop(model.parameters(), lr=3e-4)\n",
        "criterion = nn.CrossEntropyLoss()\n",
        "\n",
        "epochs = 1500\n",
        "losses = []\n",
        "total_correct = 0\n",
        "\n",
        "for epoch in tqdm(range(epochs)):\n",
        "    for d, l in train_loader:\n",
        "        loss = criterion(model(d), l)\n",
        "        optimizer.zero_grad()\n",
        "        loss.backward()\n",
        "        optimizer.step()\n",
        "        losses.append(loss.item())\n",
        "\n",
        "    for d, l in val_loader:\n",
        "        Y_pred = torch.argmax(model(d), dim=1)\n",
        "        is_correct = (Y_pred == l)\n",
        "        total_correct += is_correct.sum()\n",
        "\n",
        "    if epoch % 300 == 0:\n",
        "        print(f'Val accuracy: {total_correct / len(val_loader.dataset)}')\n",
        "        print(f'Loss: {losses[-1]}\\n')\n",
        "\n",
        "    total_correct = 0\n",
        "    losses = []"
      ],
      "execution_count": 168,
      "outputs": [
        {
          "output_type": "display_data",
          "data": {
            "application/vnd.jupyter.widget-view+json": {
              "model_id": "350817440a784e968b60fda744e21e51",
              "version_minor": 0,
              "version_major": 2
            },
            "text/plain": [
              "  0%|          | 0/1500 [00:00<?, ?it/s]"
            ]
          },
          "metadata": {}
        },
        {
          "output_type": "stream",
          "name": "stdout",
          "text": [
            "Val accuracy: 0.3392857015132904\n",
            "Loss: 1.2277841567993164\n",
            "\n",
            "Val accuracy: 0.9642857313156128\n",
            "Loss: 0.10291161388158798\n",
            "\n",
            "Val accuracy: 0.9821428656578064\n",
            "Loss: 0.08014015853404999\n",
            "\n",
            "Val accuracy: 0.9642857313156128\n",
            "Loss: 0.32744300365448\n",
            "\n",
            "Val accuracy: 0.9642857313156128\n",
            "Loss: 0.1410696804523468\n",
            "\n"
          ]
        }
      ]
    },
    {
      "cell_type": "code",
      "metadata": {
        "id": "Y9ft9yL4lTE6"
      },
      "source": [
        "Y_pred = []\n",
        "for d, l in test_loader:\n",
        "    Y_pred.append(np.argmax(torch.squeeze(model(d), dim=0).tolist()))"
      ],
      "execution_count": 150,
      "outputs": []
    },
    {
      "cell_type": "code",
      "metadata": {
        "colab": {
          "base_uri": "https://localhost:8080/",
          "height": 282
        },
        "id": "VaUE99eY57Vr",
        "outputId": "4b933c1a-de22-4fda-c164-e98a7379515d"
      },
      "source": [
        "fig, (ax1, ax2) = plt.subplots(1, 2)\n",
        "colors = []\n",
        "for val in Y_test:\n",
        "    if val == 0:\n",
        "        colors.append('red')\n",
        "    elif val == 1:\n",
        "        colors.append('green')\n",
        "    else:\n",
        "        colors.append('blue')\n",
        "ax1.scatter(X_test[:,0], X_test[:,1], color=colors)\n",
        "\n",
        "colors = []\n",
        "for val in Y_pred:\n",
        "    if val == 0:\n",
        "        colors.append('red')\n",
        "    elif val == 1:\n",
        "        colors.append('green')\n",
        "    else:\n",
        "        colors.append('blue')\n",
        "ax2.scatter(X_test[:,0], X_test[:,1], color=colors)"
      ],
      "execution_count": 110,
      "outputs": [
        {
          "output_type": "execute_result",
          "data": {
            "text/plain": [
              "<matplotlib.collections.PathCollection at 0x7f270b1b0a10>"
            ]
          },
          "metadata": {},
          "execution_count": 110
        },
        {
          "output_type": "display_data",
          "data": {
            "image/png": "[encoded data removed]",
            "text/plain": [
              "<Figure size 432x288 with 2 Axes>"
            ]
          },
          "metadata": {
            "needs_background": "light"
          }
        }
      ]
    },
    {
      "cell_type": "code",
      "metadata": {
        "colab": {
          "base_uri": "https://localhost:8080/",
          "height": 282
        },
        "id": "hcudFTXM7A-y",
        "outputId": "1bfdbdc9-ac92-4d0a-c8f8-730ad1f09fbb"
      },
      "source": [
        "x = np.arange(-1.2, 1.2, 0.025)\n",
        "combs = np.array(list(product(x, x)))\n",
        "\n",
        "class test_dataset(Dataset):\n",
        "    def __init__(self, X):\n",
        "        self.X = torch.from_numpy(X).float()\n",
        "\n",
        "    def __len__(self):\n",
        "        return self.X.shape[0]\n",
        "\n",
        "    def __getitem__(self, idx):\n",
        "        return self.X[idx, :]\n",
        "\n",
        "comb_loader = DataLoader(dataset=test_dataset(combs))\n",
        "\n",
        "Y_pred = []\n",
        "for d in comb_loader:\n",
        "    Y_pred.append(np.argmax(torch.squeeze(model(d), dim=0).tolist()))\n",
        "\n",
        "colors = []\n",
        "for val in Y_pred:\n",
        "    if val == 0:\n",
        "        colors.append('red')\n",
        "    elif val == 1:\n",
        "        colors.append('green')\n",
        "    else:\n",
        "        colors.append('blue')\n",
        "\n",
        "plt.scatter(combs[:,0], combs[:,1], color=colors)"
      ],
      "execution_count": 151,
      "outputs": [
        {
          "output_type": "execute_result",
          "data": {
            "text/plain": [
              "<matplotlib.collections.PathCollection at 0x7f270abbc690>"
            ]
          },
          "metadata": {},
          "execution_count": 151
        },
        {
          "output_type": "display_data",
          "data": {
            "image/png": "[encoded data removed]",
            "text/plain": [
              "<Figure size 432x288 with 1 Axes>"
            ]
          },
          "metadata": {
            "needs_background": "light"
          }
        }
      ]
    },
    {
      "cell_type": "code",
      "metadata": {
        "colab": {
          "base_uri": "https://localhost:8080/"
        },
        "id": "s5TZ2QIsFKal",
        "outputId": "5536eea2-54d5-43dc-ed76-a921f2c201ae"
      },
      "source": [
        "!pip install neupy"
      ],
      "execution_count": 193,
      "outputs": [
        {
          "output_type": "stream",
          "name": "stdout",
          "text": [
            "Collecting neupy\n",
            "  Downloading neupy-0.8.2-py2.py3-none-any.whl (226 kB)\n",
            "\u001b[?25l\r\u001b[K     |█▌                              | 10 kB 32.4 MB/s eta 0:00:01\r\u001b[K     |███                             | 20 kB 34.7 MB/s eta 0:00:01\r\u001b[K     |████▍                           | 30 kB 39.9 MB/s eta 0:00:01\r\u001b[K     |█████▉                          | 40 kB 43.0 MB/s eta 0:00:01\r\u001b[K     |███████▎                        | 51 kB 34.0 MB/s eta 0:00:01\r\u001b[K     |████████▊                       | 61 kB 32.8 MB/s eta 0:00:01\r\u001b[K     |██████████▏                     | 71 kB 29.4 MB/s eta 0:00:01\r\u001b[K     |███████████▋                    | 81 kB 28.5 MB/s eta 0:00:01\r\u001b[K     |█████████████                   | 92 kB 28.3 MB/s eta 0:00:01\r\u001b[K     |██████████████▌                 | 102 kB 29.2 MB/s eta 0:00:01\r\u001b[K     |████████████████                | 112 kB 29.2 MB/s eta 0:00:01\r\u001b[K     |█████████████████▍              | 122 kB 29.2 MB/s eta 0:00:01\r\u001b[K     |██████████████████▉             | 133 kB 29.2 MB/s eta 0:00:01\r\u001b[K     |████████████████████▎           | 143 kB 29.2 MB/s eta 0:00:01\r\u001b[K     |█████████████████████▊          | 153 kB 29.2 MB/s eta 0:00:01\r\u001b[K     |███████████████████████▏        | 163 kB 29.2 MB/s eta 0:00:01\r\u001b[K     |████████████████████████▋       | 174 kB 29.2 MB/s eta 0:00:01\r\u001b[K     |██████████████████████████      | 184 kB 29.2 MB/s eta 0:00:01\r\u001b[K     |███████████████████████████▌    | 194 kB 29.2 MB/s eta 0:00:01\r\u001b[K     |█████████████████████████████   | 204 kB 29.2 MB/s eta 0:00:01\r\u001b[K     |██████████████████████████████▍ | 215 kB 29.2 MB/s eta 0:00:01\r\u001b[K     |███████████████████████████████▉| 225 kB 29.2 MB/s eta 0:00:01\r\u001b[K     |████████████████████████████████| 226 kB 29.2 MB/s \n",
            "\u001b[?25hRequirement already satisfied: numpy>=1.13.3 in /usr/local/lib/python3.7/dist-packages (from neupy) (1.19.5)\n",
            "Collecting graphviz==0.5.1\n",
            "  Downloading graphviz-0.5.1-py2.py3-none-any.whl (14 kB)\n",
            "Requirement already satisfied: h5py in /usr/local/lib/python3.7/dist-packages (from neupy) (3.1.0)\n",
            "Collecting progressbar2==3.34.3\n",
            "  Downloading progressbar2-3.34.3-py2.py3-none-any.whl (25 kB)\n",
            "Requirement already satisfied: scipy>=0.19.0 in /usr/local/lib/python3.7/dist-packages (from neupy) (1.4.1)\n",
            "Collecting tensorflow<1.14.0,>=1.10.1\n",
            "  Downloading tensorflow-1.13.2-cp37-cp37m-manylinux1_x86_64.whl (92.7 MB)\n",
            "\u001b[K     |████████████████████████████████| 92.7 MB 26 kB/s \n",
            "\u001b[?25hRequirement already satisfied: matplotlib>=1.5.1 in /usr/local/lib/python3.7/dist-packages (from neupy) (3.2.2)\n",
            "Requirement already satisfied: python-utils>=2.1.0 in /usr/local/lib/python3.7/dist-packages (from progressbar2==3.34.3->neupy) (2.5.6)\n",
            "Requirement already satisfied: pyparsing!=2.0.4,!=2.1.2,!=2.1.6,>=2.0.1 in /usr/local/lib/python3.7/dist-packages (from matplotlib>=1.5.1->neupy) (2.4.7)\n",
            "Requirement already satisfied: kiwisolver>=1.0.1 in /usr/local/lib/python3.7/dist-packages (from matplotlib>=1.5.1->neupy) (1.3.2)\n",
            "Requirement already satisfied: cycler>=0.10 in /usr/local/lib/python3.7/dist-packages (from matplotlib>=1.5.1->neupy) (0.10.0)\n",
            "Requirement already satisfied: python-dateutil>=2.1 in /usr/local/lib/python3.7/dist-packages (from matplotlib>=1.5.1->neupy) (2.8.2)\n",
            "Requirement already satisfied: six in /usr/local/lib/python3.7/dist-packages (from cycler>=0.10->matplotlib>=1.5.1->neupy) (1.15.0)\n",
            "Requirement already satisfied: absl-py>=0.1.6 in /usr/local/lib/python3.7/dist-packages (from tensorflow<1.14.0,>=1.10.1->neupy) (0.12.0)\n",
            "Collecting tensorflow-estimator<1.14.0rc0,>=1.13.0\n",
            "  Downloading tensorflow_estimator-1.13.0-py2.py3-none-any.whl (367 kB)\n",
            "\u001b[K     |████████████████████████████████| 367 kB 74.9 MB/s \n",
            "\u001b[?25hRequirement already satisfied: keras-preprocessing>=1.0.5 in /usr/local/lib/python3.7/dist-packages (from tensorflow<1.14.0,>=1.10.1->neupy) (1.1.2)\n",
            "Requirement already satisfied: wheel>=0.26 in /usr/local/lib/python3.7/dist-packages (from tensorflow<1.14.0,>=1.10.1->neupy) (0.37.0)\n",
            "Requirement already satisfied: termcolor>=1.1.0 in /usr/local/lib/python3.7/dist-packages (from tensorflow<1.14.0,>=1.10.1->neupy) (1.1.0)\n",
            "Requirement already satisfied: protobuf>=3.6.1 in /usr/local/lib/python3.7/dist-packages (from tensorflow<1.14.0,>=1.10.1->neupy) (3.17.3)\n",
            "Requirement already satisfied: grpcio>=1.8.6 in /usr/local/lib/python3.7/dist-packages (from tensorflow<1.14.0,>=1.10.1->neupy) (1.41.0)\n",
            "Requirement already satisfied: astor>=0.6.0 in /usr/local/lib/python3.7/dist-packages (from tensorflow<1.14.0,>=1.10.1->neupy) (0.8.1)\n",
            "Collecting keras-applications>=1.0.6\n",
            "  Downloading Keras_Applications-1.0.8-py3-none-any.whl (50 kB)\n",
            "\u001b[K     |████████████████████████████████| 50 kB 9.1 MB/s \n",
            "\u001b[?25hCollecting tensorboard<1.14.0,>=1.13.0\n",
            "  Downloading tensorboard-1.13.1-py3-none-any.whl (3.2 MB)\n",
            "\u001b[K     |████████████████████████████████| 3.2 MB 45.2 MB/s \n",
            "\u001b[?25hRequirement already satisfied: gast>=0.2.0 in /usr/local/lib/python3.7/dist-packages (from tensorflow<1.14.0,>=1.10.1->neupy) (0.4.0)\n",
            "Requirement already satisfied: werkzeug>=0.11.15 in /usr/local/lib/python3.7/dist-packages (from tensorboard<1.14.0,>=1.13.0->tensorflow<1.14.0,>=1.10.1->neupy) (1.0.1)\n",
            "Requirement already satisfied: markdown>=2.6.8 in /usr/local/lib/python3.7/dist-packages (from tensorboard<1.14.0,>=1.13.0->tensorflow<1.14.0,>=1.10.1->neupy) (3.3.4)\n",
            "Requirement already satisfied: importlib-metadata in /usr/local/lib/python3.7/dist-packages (from markdown>=2.6.8->tensorboard<1.14.0,>=1.13.0->tensorflow<1.14.0,>=1.10.1->neupy) (4.8.1)\n",
            "Collecting mock>=2.0.0\n",
            "  Downloading mock-4.0.3-py3-none-any.whl (28 kB)\n",
            "Requirement already satisfied: cached-property in /usr/local/lib/python3.7/dist-packages (from h5py->neupy) (1.5.2)\n",
            "Requirement already satisfied: typing-extensions>=3.6.4 in /usr/local/lib/python3.7/dist-packages (from importlib-metadata->markdown>=2.6.8->tensorboard<1.14.0,>=1.13.0->tensorflow<1.14.0,>=1.10.1->neupy) (3.7.4.3)\n",
            "Requirement already satisfied: zipp>=0.5 in /usr/local/lib/python3.7/dist-packages (from importlib-metadata->markdown>=2.6.8->tensorboard<1.14.0,>=1.13.0->tensorflow<1.14.0,>=1.10.1->neupy) (3.6.0)\n",
            "Installing collected packages: mock, tensorflow-estimator, tensorboard, keras-applications, tensorflow, progressbar2, graphviz, neupy\n",
            "  Attempting uninstall: tensorflow-estimator\n",
            "    Found existing installation: tensorflow-estimator 2.6.0\n",
            "    Uninstalling tensorflow-estimator-2.6.0:\n",
            "      Successfully uninstalled tensorflow-estimator-2.6.0\n",
            "  Attempting uninstall: tensorboard\n",
            "    Found existing installation: tensorboard 2.6.0\n",
            "    Uninstalling tensorboard-2.6.0:\n",
            "      Successfully uninstalled tensorboard-2.6.0\n",
            "  Attempting uninstall: tensorflow\n",
            "    Found existing installation: tensorflow 2.6.0\n",
            "    Uninstalling tensorflow-2.6.0:\n",
            "      Successfully uninstalled tensorflow-2.6.0\n",
            "  Attempting uninstall: progressbar2\n",
            "    Found existing installation: progressbar2 3.38.0\n",
            "    Uninstalling progressbar2-3.38.0:\n",
            "      Successfully uninstalled progressbar2-3.38.0\n",
            "  Attempting uninstall: graphviz\n",
            "    Found existing installation: graphviz 0.10.1\n",
            "    Uninstalling graphviz-0.10.1:\n",
            "      Successfully uninstalled graphviz-0.10.1\n",
            "\u001b[31mERROR: pip's dependency resolver does not currently take into account all the packages that are installed. This behaviour is the source of the following dependency conflicts.\n",
            "kapre 0.3.5 requires tensorflow>=2.0.0, but you have tensorflow 1.13.2 which is incompatible.\u001b[0m\n",
            "Successfully installed graphviz-0.5.1 keras-applications-1.0.8 mock-4.0.3 neupy-0.8.2 progressbar2-3.34.3 tensorboard-1.13.1 tensorflow-1.13.2 tensorflow-estimator-1.13.0\n"
          ]
        }
      ]
    },
    {
      "cell_type": "code",
      "metadata": {
        "id": "ZlvuwjdNE6zw"
      },
      "source": [
        "from neupy import algorithms\n",
        "from neupy.layers import Input, Tanh, Linear, Sigmoid\n",
        "from sklearn.preprocessing import StandardScaler\n",
        "from sklearn.metrics import accuracy_score, mean_squared_error\n",
        "import warnings\n",
        "warnings.filterwarnings('ignore')"
      ],
      "execution_count": 214,
      "outputs": []
    },
    {
      "cell_type": "code",
      "metadata": {
        "id": "vl0ko8FoFtRX"
      },
      "source": [
        "h = 0.025\n",
        "t = np.linspace(0, 5, int(5/0.025), endpoint=True)\n",
        "x = np.sin(t**2 - 6*t + 3)\n",
        "\n",
        "train_size = int(t.shape[0] * 0.9)\n",
        "train_size\n",
        "\n",
        "X_train = t[:train_size]\n",
        "y_train = x[:train_size]\n",
        "\n",
        "X_test = t[train_size:]\n",
        "y_test = x[train_size:]\n",
        "\n",
        "scaler_x = StandardScaler()\n",
        "scaler_y = StandardScaler()\n",
        "tmp_train_scaled_x = scaler_x.fit_transform(X_train[:, np.newaxis])\n",
        "tmp_test_scaled_x = scaler_x.transform(X_test[:, np.newaxis])\n",
        "tmp_train_scaled_y = scaler_y.fit_transform(y_train[:, np.newaxis])\n"
      ],
      "execution_count": 356,
      "outputs": []
    },
    {
      "cell_type": "markdown",
      "metadata": {
        "id": "SOyWe3NRL8y_"
      },
      "source": [
        "**Задание 2**\\\n",
        "Метод первого порядка:\\\n",
        " Метод сопряженных градиентов."
      ]
    },
    {
      "cell_type": "code",
      "metadata": {
        "colab": {
          "base_uri": "https://localhost:8080/"
        },
        "id": "X2v-xrplF1EM",
        "outputId": "42df6b19-cfb5-4d43-bcfc-4dd1159c44a5"
      },
      "source": [
        "\n",
        "lmnet = algorithms.ConjugateGradient((Input(1), Tanh(20), Linear(1)), verbose=True)\n"
      ],
      "execution_count": 357,
      "outputs": [
        {
          "output_type": "stream",
          "name": "stdout",
          "text": [
            "\n",
            "Main information\n",
            "\n",
            "[ALGORITHM] ConjugateGradient\n",
            "\r\n",
            "[OPTION] epsilon = 1e-07\n",
            "[OPTION] loss = mse\n",
            "[OPTION] regularizer = None\n",
            "[OPTION] show_epoch = 1\n",
            "[OPTION] shuffle_data = False\n",
            "[OPTION] signals = None\n",
            "[OPTION] target = Tensor(\"placeholder/target/linear-40:0\", shape=(?, 1), dtype=float32)\n",
            "[OPTION] update_function = fletcher_reeves\n",
            "[OPTION] verbose = True\n",
            "[OPTION] wolfe_c1 = 0.0001\n",
            "[OPTION] wolfe_c2 = 0.9\n",
            "[OPTION] wolfe_maxiter = 20\n",
            "\r\n",
            "[TENSORFLOW] Initializing Tensorflow variables and functions.\n",
            "[TENSORFLOW] Initialization finished successfully. It took 27.95 seconds\n"
          ]
        }
      ]
    },
    {
      "cell_type": "code",
      "metadata": {
        "colab": {
          "base_uri": "https://localhost:8080/"
        },
        "id": "Ew9aisCEGEK4",
        "outputId": "3b9b1161-b5da-49d1-9e68-c72a0f5e624b"
      },
      "source": [
        "lmnet.train(X_train, y_train, epochs=60)\n",
        "\n"
      ],
      "execution_count": 358,
      "outputs": [
        {
          "output_type": "stream",
          "name": "stderr",
          "text": [
            "\r                                                                               \r\r                                                                               \r\r                                                                               \r\r                                                                               \r\r                                                                               \r\r                                                                               \r\r                                                                               \r\r                                                                               \r\r                                                                               \r\r                                                                               \r\r                                                                               \r\r                                                                               \r\r                                                                               \r\r                                                                               \r\r                                                                               \r\r                                                                               \r\r                                                                               \r\r                                                                               \r\r                                                                               \r\r                                                                               \r\r                                                                               \r\r                                                                               \r\r                                                                               \r\r                                                                               \r\r                                                                               \r\r                                                                               \r\r                                                                               \r\r                                                                               \r\r                                                                               \r\r                                                                               \r\r                                                                               \r\r                                                                               \r\r                                                                               \r\r                                                                               \r\r                                                                               \r\r                                                                               \r\r                                                                               \r\r                                                                               \r\r                                                                               \r\r                                                                               \r\r                                                                               \r\r                                                                               \r\r                                                                               \r\r                                                                               \r\r                                                                               \r\r                                                                               \r\r                                                                               \r\r                                                                               \r\r                                                                               \r"
          ]
        },
        {
          "output_type": "stream",
          "name": "stdout",
          "text": [
            "#1 : [6 sec] train: 0.302542\n",
            "#2 : [3 ms] train: 0.260393\n",
            "#3 : [4 ms] train: 0.245279\n",
            "#4 : [2 ms] train: 0.242816\n",
            "#5 : [2 ms] train: 0.229807\n",
            "#6 : [3 ms] train: 0.225865\n",
            "#7 : [2 ms] train: 0.212974\n",
            "#8 : [3 ms] train: 0.206123\n",
            "#9 : [3 ms] train: 0.201651\n",
            "#10 : [2 ms] train: 0.201217\n",
            "#11 : [3 ms] train: 0.200132\n",
            "#12 : [3 ms] train: 0.195290\n",
            "#13 : [4 ms] train: 0.193973\n",
            "#14 : [4 ms] train: 0.193443\n",
            "#15 : [4 ms] train: 0.191307\n",
            "#16 : [4 ms] train: 0.190805\n",
            "#17 : [4 ms] train: 0.190076\n",
            "#18 : [3 ms] train: 0.189338\n",
            "#19 : [4 ms] train: 0.185663\n",
            "#20 : [4 ms] train: 0.185739\n",
            "#21 : [4 ms] train: 0.183995\n",
            "#22 : [4 ms] train: 0.182984\n",
            "#23 : [4 ms] train: 0.182579\n",
            "#24 : [4 ms] train: 0.182417\n",
            "#25 : [4 ms] train: 0.182334\n",
            "#26 : [4 ms] train: 0.182261\n",
            "#27 : [4 ms] train: 0.182142\n",
            "#28 : [4 ms] train: 0.181862\n",
            "#29 : [4 ms] train: 0.181091\n",
            "#30 : [4 ms] train: 0.179615\n",
            "#31 : [5 ms] train: 0.177590\n",
            "#32 : [4 ms] train: 0.176195\n",
            "#33 : [4 ms] train: 0.175566\n",
            "#34 : [4 ms] train: 0.175355\n",
            "#35 : [4 ms] train: 0.175276\n",
            "#36 : [4 ms] train: 0.175235\n",
            "#37 : [4 ms] train: 0.175194\n",
            "#38 : [4 ms] train: 0.175124\n",
            "#39 : [4 ms] train: 0.174952\n",
            "#40 : [4 ms] train: 0.174511\n",
            "#41 : [6 ms] train: 0.173549\n",
            "#42 : [4 ms] train: 0.171960\n",
            "#43 : [4 ms] train: 0.170848\n",
            "#44 : [4 ms] train: 0.170350\n",
            "#45 : [4 ms] train: 0.170177\n",
            "#46 : [10 ms] train: 0.170109\n",
            "#47 : [5 ms] train: 0.170074\n",
            "#48 : [4 ms] train: 0.170045\n",
            "#49 : [4 ms] train: 0.170000\n",
            "#50 : [5 ms] train: 0.169900\n",
            "#51 : [6 ms] train: 0.169738\n",
            "#52 : [5 ms] train: 0.169666\n",
            "#53 : [4 ms] train: 0.169117\n",
            "#54 : [4 ms] train: 0.168559\n",
            "#55 : [4 ms] train: 0.168237\n",
            "#56 : [4 ms] train: 0.168117\n",
            "#57 : [4 ms] train: 0.168067\n",
            "#58 : [4 ms] train: 0.168042\n",
            "#59 : [4 ms] train: 0.168026\n",
            "#60 : [4 ms] train: 0.168008\n"
          ]
        },
        {
          "output_type": "stream",
          "name": "stderr",
          "text": [
            "\r                                                                               \r\r                                                                               \r\r                                                                               \r\r                                                                               \r\r                                                                               \r\r                                                                               \r\r                                                                               \r\r                                                                               \r\r                                                                               \r\r                                                                               \r\r                                                                               \r"
          ]
        }
      ]
    },
    {
      "cell_type": "code",
      "metadata": {
        "colab": {
          "base_uri": "https://localhost:8080/",
          "height": 282
        },
        "id": "97z9EtpiGH_Y",
        "outputId": "27dc118c-1df8-48ac-f4f1-3a837f0374f7"
      },
      "source": [
        "\n",
        "pred_x = lmnet.predict(X_train)\n",
        "mse = mean_squared_error(y_train, pred_x.flatten())\n",
        "print(f'RMSE = {np.sqrt(mse)}')\n",
        "\n",
        "plt.plot(X_train, y_train, label='train')\n",
        "plt.plot(X_train, pred_x, label='predict')\n",
        "plt.legend();\n",
        "\n",
        "plt.show()\n"
      ],
      "execution_count": 359,
      "outputs": [
        {
          "output_type": "stream",
          "name": "stdout",
          "text": [
            "RMSE = 0.4098534251321085\n"
          ]
        },
        {
          "output_type": "stream",
          "name": "stderr",
          "text": [
            "\r                                                                               \r"
          ]
        },
        {
          "output_type": "display_data",
          "data": {
            "image/png": "[encoded data removed]",
            "text/plain": [
              "<Figure size 432x288 with 1 Axes>"
            ]
          },
          "metadata": {
            "needs_background": "light"
          }
        }
      ]
    },
    {
      "cell_type": "code",
      "metadata": {
        "colab": {
          "base_uri": "https://localhost:8080/",
          "height": 282
        },
        "id": "ppSBefpYNqbU",
        "outputId": "a48ba594-5ce9-4f80-9eaf-f9bf84feec22"
      },
      "source": [
        "\n",
        "pred_x = lmnet.predict(X_test)\n",
        "mse = mean_squared_error(y_test, pred_x.flatten())\n",
        "print(f'RMSE = {np.sqrt(mse)}')\n",
        "\n",
        "plt.plot(X_test, y_test, label='test')\n",
        "plt.plot(X_test, pred_x, label='predict')\n",
        "plt.legend();\n",
        "\n",
        "\n",
        "plt.show()"
      ],
      "execution_count": 360,
      "outputs": [
        {
          "output_type": "stream",
          "name": "stdout",
          "text": [
            "RMSE = 1.0425874397569055\n"
          ]
        },
        {
          "output_type": "stream",
          "name": "stderr",
          "text": [
            "\r                                                                               \r"
          ]
        },
        {
          "output_type": "display_data",
          "data": {
            "image/png": "[encoded data removed]",
            "text/plain": [
              "<Figure size 432x288 with 1 Axes>"
            ]
          },
          "metadata": {
            "needs_background": "light"
          }
        }
      ]
    },
    {
      "cell_type": "markdown",
      "metadata": {
        "id": "CYstoph5NwJU"
      },
      "source": [
        "**Задание 3**\\\n",
        "Метод второго порядка:"
      ]
    },
    {
      "cell_type": "code",
      "metadata": {
        "colab": {
          "base_uri": "https://localhost:8080/"
        },
        "id": "1tI1j0zEN0dl",
        "outputId": "e9bfa86f-2e88-44ba-9d9a-df29e669e5c1"
      },
      "source": [
        "\n",
        "lmnet2 = algorithms.LevenbergMarquardt((Input(1), Tanh(20), Linear(1)), mu = 0.1, verbose=True)\n",
        "\n"
      ],
      "execution_count": 361,
      "outputs": [
        {
          "output_type": "stream",
          "name": "stdout",
          "text": [
            "\n",
            "Main information\n",
            "\n",
            "[ALGORITHM] LevenbergMarquardt\n",
            "\r\n",
            "[OPTION] loss = mse\n",
            "[OPTION] mu = 0.1\n",
            "[OPTION] mu_update_factor = 1.2\n",
            "[OPTION] show_epoch = 1\n",
            "[OPTION] shuffle_data = False\n",
            "[OPTION] signals = None\n",
            "[OPTION] target = Tensor(\"placeholder/target/linear-41:0\", shape=(?, 1), dtype=float32)\n",
            "[OPTION] verbose = True\n",
            "\r\n",
            "[TENSORFLOW] Initializing Tensorflow variables and functions.\n",
            "[TENSORFLOW] Initialization finished successfully. It took 30.55 seconds\n"
          ]
        }
      ]
    },
    {
      "cell_type": "code",
      "metadata": {
        "colab": {
          "base_uri": "https://localhost:8080/"
        },
        "id": "ozR3l0vEN8DG",
        "outputId": "b609bf4e-eed9-4756-fe97-3da022857cec"
      },
      "source": [
        "lmnet2.train(X_train, y_train, epochs=60)"
      ],
      "execution_count": 362,
      "outputs": [
        {
          "output_type": "stream",
          "name": "stderr",
          "text": [
            "\r                                                                               \r"
          ]
        },
        {
          "output_type": "stream",
          "name": "stdout",
          "text": [
            "#1 : [6 sec] train: 0.355722\n"
          ]
        },
        {
          "output_type": "stream",
          "name": "stderr",
          "text": [
            "\r                                                                               \r\r                                                                               \r\r                                                                               \r\r                                                                               \r\r                                                                               \r\r                                                                               \r\r                                                                               \r\r                                                                               \r\r                                                                               \r\r                                                                               \r\r                                                                               \r\r                                                                               \r\r                                                                               \r\r                                                                               \r\r                                                                               \r\r                                                                               \r"
          ]
        },
        {
          "output_type": "stream",
          "name": "stdout",
          "text": [
            "#2 : [449 ms] train: 1.384301\n",
            "#3 : [13 ms] train: 0.360814\n",
            "#4 : [19 ms] train: 0.196514\n",
            "#5 : [12 ms] train: 0.114613\n",
            "#6 : [12 ms] train: 0.130905\n",
            "#7 : [11 ms] train: 0.124949\n",
            "#8 : [12 ms] train: 0.050209\n",
            "#9 : [12 ms] train: 0.507707\n",
            "#10 : [12 ms] train: 0.131653\n",
            "#11 : [11 ms] train: 0.129104\n",
            "#12 : [18 ms] train: 0.733558\n",
            "#13 : [12 ms] train: 0.103658\n",
            "#14 : [12 ms] train: 0.035935\n",
            "#15 : [12 ms] train: 0.516296\n",
            "#16 : [12 ms] train: 1.049818\n",
            "#17 : [11 ms] train: 1.102096\n"
          ]
        },
        {
          "output_type": "stream",
          "name": "stderr",
          "text": [
            "\r                                                                               \r\r                                                                               \r\r                                                                               \r\r                                                                               \r\r                                                                               \r\r                                                                               \r\r                                                                               \r\r                                                                               \r\r                                                                               \r\r                                                                               \r\r                                                                               \r\r                                                                               \r\r                                                                               \r\r                                                                               \r\r                                                                               \r\r                                                                               \r\r                                                                               \r"
          ]
        },
        {
          "output_type": "stream",
          "name": "stdout",
          "text": [
            "#18 : [17 ms] train: 0.549210\n",
            "#19 : [14 ms] train: 0.162636\n",
            "#20 : [11 ms] train: 0.042746\n",
            "#21 : [12 ms] train: 0.012640\n",
            "#22 : [16 ms] train: 0.008821\n",
            "#23 : [12 ms] train: 0.005693\n",
            "#24 : [12 ms] train: 0.005642\n",
            "#25 : [12 ms] train: 0.005471\n",
            "#26 : [12 ms] train: 0.005559\n",
            "#27 : [12 ms] train: 0.005596\n",
            "#28 : [11 ms] train: 0.005602\n",
            "#29 : [12 ms] train: 0.005594\n",
            "#30 : [11 ms] train: 0.005597\n",
            "#31 : [12 ms] train: 0.005577\n",
            "#32 : [12 ms] train: 0.005558\n",
            "#33 : [12 ms] train: 0.005519\n",
            "#34 : [11 ms] train: 0.005469\n"
          ]
        },
        {
          "output_type": "stream",
          "name": "stderr",
          "text": [
            "\r                                                                               \r\r                                                                               \r\r                                                                               \r\r                                                                               \r\r                                                                               \r\r                                                                               \r\r                                                                               \r\r                                                                               \r\r                                                                               \r\r                                                                               \r\r                                                                               \r\r                                                                               \r\r                                                                               \r\r                                                                               \r\r                                                                               \r\r                                                                               \r\r                                                                               \r\r                                                                               \r\r                                                                               \r"
          ]
        },
        {
          "output_type": "stream",
          "name": "stdout",
          "text": [
            "#35 : [16 ms] train: 0.005406\n",
            "#36 : [11 ms] train: 0.005329\n",
            "#37 : [11 ms] train: 0.005234\n",
            "#38 : [11 ms] train: 0.005122\n",
            "#39 : [11 ms] train: 0.004999\n",
            "#40 : [11 ms] train: 0.004871\n",
            "#41 : [11 ms] train: 0.004749\n",
            "#42 : [11 ms] train: 0.004780\n",
            "#43 : [11 ms] train: 0.005771\n",
            "#44 : [12 ms] train: 0.010228\n",
            "#45 : [11 ms] train: 0.004439\n",
            "#46 : [13 ms] train: 0.003882\n",
            "#47 : [11 ms] train: 0.002103\n",
            "#48 : [10 ms] train: 0.002663\n",
            "#49 : [11 ms] train: 0.001628\n",
            "#50 : [11 ms] train: 0.001460\n",
            "#51 : [11 ms] train: 0.001307\n",
            "#52 : [11 ms] train: 0.001169\n",
            "#53 : [10 ms] train: 0.001057\n",
            "#54 : [15 ms] train: 0.000958\n",
            "#55 : [10 ms] train: 0.000881\n",
            "#56 : [10 ms] train: 0.000814\n",
            "#57 : [13 ms] train: 0.000760\n",
            "#58 : [10 ms] train: 0.000715\n",
            "#59 : [11 ms] train: 0.000679\n",
            "#60 : [10 ms] train: 0.000650\n"
          ]
        },
        {
          "output_type": "stream",
          "name": "stderr",
          "text": [
            "\r                                                                               \r\r                                                                               \r\r                                                                               \r\r                                                                               \r\r                                                                               \r\r                                                                               \r\r                                                                               \r"
          ]
        }
      ]
    },
    {
      "cell_type": "code",
      "metadata": {
        "colab": {
          "base_uri": "https://localhost:8080/",
          "height": 282
        },
        "id": "lNq3ji7SOOpV",
        "outputId": "a1cd0ccc-0315-417d-eae3-d1a8f205e5ef"
      },
      "source": [
        "\n",
        "pred_x = lmnet2.predict(X_train)\n",
        "mse = mean_squared_error(y_train, pred_x.flatten())\n",
        "print(f'RMSE = {np.sqrt(mse)}')\n",
        "\n",
        "plt.plot(X_train, y_train, label='train')\n",
        "plt.plot(X_train, pred_x, label='predict')\n",
        "plt.legend();\n",
        "\n",
        "plt.show()"
      ],
      "execution_count": 363,
      "outputs": [
        {
          "output_type": "stream",
          "name": "stdout",
          "text": [
            "RMSE = 0.02509954806350635\n"
          ]
        },
        {
          "output_type": "stream",
          "name": "stderr",
          "text": [
            "\r                                                                               \r"
          ]
        },
        {
          "output_type": "display_data",
          "data": {
            "image/png": "[encoded data removed]",
            "text/plain": [
              "<Figure size 432x288 with 1 Axes>"
            ]
          },
          "metadata": {
            "needs_background": "light"
          }
        }
      ]
    },
    {
      "cell_type": "code",
      "metadata": {
        "colab": {
          "base_uri": "https://localhost:8080/",
          "height": 282
        },
        "id": "lPkogXeBOmAW",
        "outputId": "13262167-a942-42f7-cdf0-eedc1684c1e0"
      },
      "source": [
        "\n",
        "pred_x = lmnet2.predict(X_test)\n",
        "mse = mean_squared_error(y_test, pred_x.flatten())\n",
        "print(f'RMSE = {np.sqrt(mse)}')\n",
        "\n",
        "plt.plot(X_test, y_test, label='test')\n",
        "plt.plot(X_test, pred_x, label='predict')\n",
        "plt.legend();\n",
        "\n",
        "\n",
        "plt.show()"
      ],
      "execution_count": 364,
      "outputs": [
        {
          "output_type": "stream",
          "name": "stdout",
          "text": [
            "RMSE = 0.48057248246774226\n"
          ]
        },
        {
          "output_type": "stream",
          "name": "stderr",
          "text": [
            "\r                                                                               \r"
          ]
        },
        {
          "output_type": "display_data",
          "data": {
            "image/png": "[encoded data removed]",
            "text/plain": [
              "<Figure size 432x288 with 1 Axes>"
            ]
          },
          "metadata": {
            "needs_background": "light"
          }
        }
      ]
    }
  ]
}