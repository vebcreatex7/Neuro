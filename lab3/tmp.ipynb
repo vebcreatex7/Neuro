{
 "cells": [
  {
   "cell_type": "code",
   "execution_count": 23,
   "source": [
    "\n",
    "\n",
    "import matplotlib.pyplot as plt\n",
    "import numpy as np\n",
    "import pandas as pd\n",
    "import tensorflow as tf\n",
    "from keras.models import Sequential\n",
    "from keras.layers import Dense\n",
    "from numpy.random import permutation\n",
    "import keras\n",
    "from sklearn.metrics import accuracy_score, mean_squared_error\n",
    "from sklearn.model_selection import train_test_split\n",
    "from sklearn.preprocessing import StandardScaler\n",
    "\n",
    "import random"
   ],
   "outputs": [],
   "metadata": {}
  },
  {
   "cell_type": "markdown",
   "source": [
    "Вариант 2"
   ],
   "metadata": {}
  },
  {
   "cell_type": "code",
   "execution_count": 53,
   "source": [
    "a1 = 0.4\n",
    "b1 = 0.15\n",
    "alpha1 = np.pi / 6\n",
    "x0_1 = 0\n",
    "y0_1 = 0\n",
    "\n",
    "a2 = 0.7\n",
    "b2 = 0.5\n",
    "alpha2 = 0\n",
    "x0_2 = 0\n",
    "y0_2 = 0\n",
    "\n",
    "a3 = 1\n",
    "b3 = 1\n",
    "alpha3 = 0\n",
    "x0_3 = 0\n",
    "y0_3 = 0"
   ],
   "outputs": [],
   "metadata": {}
  },
  {
   "cell_type": "code",
   "execution_count": 54,
   "source": [
    "t = np.linspace(0, 2 * np.pi, int(2 * np.pi / 0.025), endpoint=True)\n"
   ],
   "outputs": [],
   "metadata": {}
  },
  {
   "cell_type": "code",
   "execution_count": 55,
   "source": [
    "\n",
    "def f(alpha, x0, a, t, y0, b):\n",
    "    return (x0 + a * np.cos(t)) * np.cos(alpha) + (y0 + b * np.sin(t)) * np.sin(alpha)\n",
    "\n",
    "def g(alpha, x0, a, t, y0, b):\n",
    "    return -(x0 + a * np.cos(t)) * np.sin(alpha) + (y0 + b * np.sin(t)) * np.cos(alpha)"
   ],
   "outputs": [],
   "metadata": {}
  },
  {
   "cell_type": "code",
   "execution_count": 56,
   "source": [
    "x1 = f(alpha1, x0_1, a1, t, y0_1, b1)\n",
    "y1 = g(alpha1, x0_1, a1, t, y0_1, b1)\n",
    "\n",
    "x2 = f(alpha2, x0_2, a2, t, y0_2, b2)\n",
    "y2 = g(alpha2, x0_2, a2, t, y0_2, b2)\n",
    "\n",
    "x3 = f(alpha3, x0_3, a3, t, y0_3, b3)\n",
    "y3 = g(alpha3, x0_3, a3, t, y0_3, b3)"
   ],
   "outputs": [],
   "metadata": {}
  },
  {
   "cell_type": "code",
   "execution_count": 106,
   "source": [],
   "outputs": [
    {
     "output_type": "execute_result",
     "data": {
      "text/plain": [
       "251"
      ]
     },
     "metadata": {},
     "execution_count": 106
    }
   ],
   "metadata": {}
  },
  {
   "cell_type": "code",
   "execution_count": 57,
   "source": [
    "plt.plot(x1, y1, 'r', label=0)\n",
    "plt.plot(x2, y2, 'g', label=1)\n",
    "plt.plot(x3, y3, 'b', label=2)\n",
    "plt.grid()\n",
    "plt.legend()"
   ],
   "outputs": [
    {
     "output_type": "execute_result",
     "data": {
      "text/plain": [
       "<matplotlib.legend.Legend at 0x7efd3483e370>"
      ]
     },
     "metadata": {},
     "execution_count": 57
    },
    {
     "output_type": "display_data",
     "data": {
      "image/png": "[encoded data removed]",
      "text/plain": [
       "<Figure size 432x288 with 1 Axes>"
      ]
     },
     "metadata": {
      "needs_background": "light"
     }
    }
   ],
   "metadata": {}
  },
  {
   "cell_type": "code",
   "execution_count": 107,
   "source": [
    "def choiceN(x1, x2, x3,y1,y2,y3,n):\n",
    "    x_ret = []\n",
    "    y_ret = []\n",
    "    for _ in range(n):\n",
    "        idx = np.random.randint(1,4)\n",
    "        idx2 = np.random.randint(0,251)\n",
    "        if idx == 1:\n",
    "            x_ret.append(x1[idx2])\n",
    "            y_ret.append(y1[idx2])\n",
    "        elif idx == 2:\n",
    "            x_ret.append(x2[idx2])\n",
    "            y_ret.append(y2[idx2])\n",
    "        elif idx == 3:\n",
    "            x_ret.append(x3[idx2])\n",
    "            y_ret.append(y3[idx2])\n",
    "    return x_ret, y_ret\n",
    "\n",
    "        "
   ],
   "outputs": [],
   "metadata": {}
  },
  {
   "cell_type": "code",
   "execution_count": 113,
   "source": [
    "first, second = choiceN(x1,x2,x3,y1,y2,y3,60)\n",
    "df1 = pd.DataFrame({'x' : first, 'y' : second, 'class' : 0})\n",
    "first, second = choiceN(x1,x2,x3,y1,y2,y3,100)\n",
    "df2 = pd.DataFrame({'x' : first, 'y' : second, 'class' : 1})\n",
    "first, second = choiceN(x1,x2,x3,y1,y2,y3,120)\n",
    "df3 = pd.DataFrame({'x' : first, 'y' : second, 'class' : 2})"
   ],
   "outputs": [],
   "metadata": {}
  },
  {
   "cell_type": "code",
   "execution_count": 114,
   "source": [
    "def Splitter(data):\n",
    "    xTrain, xTest = train_test_split(data, test_size=3./10, shuffle=True, random_state=42)\n",
    "    xValid, xTest = train_test_split(xTest, test_size=1./3, shuffle=True, random_state=42)\n",
    "    return xTrain, xTest, xValid"
   ],
   "outputs": [],
   "metadata": {}
  },
  {
   "cell_type": "code",
   "execution_count": 115,
   "source": [
    "train, test, valid = [], [], []\n",
    "\n",
    "tmpTrain, tmpTest, tmpValid = Splitter(df1)\n",
    "train.append(tmpTrain)\n",
    "test.append(tmpTest)\n",
    "valid.append(tmpValid)\n",
    "\n",
    "tmpTrain, tmpTest, tmpValid = Splitter(df2)\n",
    "train.append(tmpTrain)\n",
    "test.append(tmpTest)\n",
    "valid.append(tmpValid)\n",
    "\n",
    "tmpTrain, tmpTest, tmpValid = Splitter(df3)\n",
    "train.append(tmpTrain)\n",
    "test.append(tmpTest)\n",
    "valid.append(tmpValid)\n",
    "\n",
    "train = pd.concat(train)\n",
    "valid = pd.concat(valid)\n",
    "test = pd.concat(test)\n",
    "\n"
   ],
   "outputs": [],
   "metadata": {}
  },
  {
   "cell_type": "code",
   "execution_count": 143,
   "source": [
    "X_train, y_train = train.iloc[:, :-1], train.iloc[:, [-1]]\n",
    "X_test, y_test = test.iloc[:, :-1], test.iloc[:, [-1]]\n",
    "X_valid, y_valid = valid.iloc[:, :-1], valid.iloc[:, [-1]]\n",
    "\n"
   ],
   "outputs": [],
   "metadata": {}
  },
  {
   "cell_type": "code",
   "execution_count": 146,
   "source": [
    "y_train = pd.get_dummies(y_train, columns=['class'])\n",
    "y_test = pd.get_dummies(y_test,  columns=['class'])\n",
    "y_valid = pd.get_dummies(y_valid,  columns=['class'])"
   ],
   "outputs": [],
   "metadata": {}
  },
  {
   "cell_type": "code",
   "execution_count": 147,
   "source": [
    "y_valid"
   ],
   "outputs": [
    {
     "output_type": "execute_result",
     "data": {
      "text/html": [
       "<div>\n",
       "<style scoped>\n",
       "    .dataframe tbody tr th:only-of-type {\n",
       "        vertical-align: middle;\n",
       "    }\n",
       "\n",
       "    .dataframe tbody tr th {\n",
       "        vertical-align: top;\n",
       "    }\n",
       "\n",
       "    .dataframe thead th {\n",
       "        text-align: right;\n",
       "    }\n",
       "</style>\n",
       "<table border=\"1\" class=\"dataframe\">\n",
       "  <thead>\n",
       "    <tr style=\"text-align: right;\">\n",
       "      <th></th>\n",
       "      <th>class_0</th>\n",
       "      <th>class_1</th>\n",
       "      <th>class_2</th>\n",
       "    </tr>\n",
       "  </thead>\n",
       "  <tbody>\n",
       "    <tr>\n",
       "      <th>8</th>\n",
       "      <td>1</td>\n",
       "      <td>0</td>\n",
       "      <td>0</td>\n",
       "    </tr>\n",
       "    <tr>\n",
       "      <th>17</th>\n",
       "      <td>1</td>\n",
       "      <td>0</td>\n",
       "      <td>0</td>\n",
       "    </tr>\n",
       "    <tr>\n",
       "      <th>50</th>\n",
       "      <td>1</td>\n",
       "      <td>0</td>\n",
       "      <td>0</td>\n",
       "    </tr>\n",
       "    <tr>\n",
       "      <th>36</th>\n",
       "      <td>1</td>\n",
       "      <td>0</td>\n",
       "      <td>0</td>\n",
       "    </tr>\n",
       "    <tr>\n",
       "      <th>57</th>\n",
       "      <td>1</td>\n",
       "      <td>0</td>\n",
       "      <td>0</td>\n",
       "    </tr>\n",
       "    <tr>\n",
       "      <th>6</th>\n",
       "      <td>1</td>\n",
       "      <td>0</td>\n",
       "      <td>0</td>\n",
       "    </tr>\n",
       "    <tr>\n",
       "      <th>13</th>\n",
       "      <td>1</td>\n",
       "      <td>0</td>\n",
       "      <td>0</td>\n",
       "    </tr>\n",
       "    <tr>\n",
       "      <th>31</th>\n",
       "      <td>1</td>\n",
       "      <td>0</td>\n",
       "      <td>0</td>\n",
       "    </tr>\n",
       "    <tr>\n",
       "      <th>48</th>\n",
       "      <td>1</td>\n",
       "      <td>0</td>\n",
       "      <td>0</td>\n",
       "    </tr>\n",
       "    <tr>\n",
       "      <th>46</th>\n",
       "      <td>1</td>\n",
       "      <td>0</td>\n",
       "      <td>0</td>\n",
       "    </tr>\n",
       "    <tr>\n",
       "      <th>52</th>\n",
       "      <td>1</td>\n",
       "      <td>0</td>\n",
       "      <td>0</td>\n",
       "    </tr>\n",
       "    <tr>\n",
       "      <th>33</th>\n",
       "      <td>1</td>\n",
       "      <td>0</td>\n",
       "      <td>0</td>\n",
       "    </tr>\n",
       "    <tr>\n",
       "      <th>44</th>\n",
       "      <td>0</td>\n",
       "      <td>1</td>\n",
       "      <td>0</td>\n",
       "    </tr>\n",
       "    <tr>\n",
       "      <th>76</th>\n",
       "      <td>0</td>\n",
       "      <td>1</td>\n",
       "      <td>0</td>\n",
       "    </tr>\n",
       "    <tr>\n",
       "      <th>39</th>\n",
       "      <td>0</td>\n",
       "      <td>1</td>\n",
       "      <td>0</td>\n",
       "    </tr>\n",
       "    <tr>\n",
       "      <th>33</th>\n",
       "      <td>0</td>\n",
       "      <td>1</td>\n",
       "      <td>0</td>\n",
       "    </tr>\n",
       "    <tr>\n",
       "      <th>30</th>\n",
       "      <td>0</td>\n",
       "      <td>1</td>\n",
       "      <td>0</td>\n",
       "    </tr>\n",
       "    <tr>\n",
       "      <th>26</th>\n",
       "      <td>0</td>\n",
       "      <td>1</td>\n",
       "      <td>0</td>\n",
       "    </tr>\n",
       "    <tr>\n",
       "      <th>53</th>\n",
       "      <td>0</td>\n",
       "      <td>1</td>\n",
       "      <td>0</td>\n",
       "    </tr>\n",
       "    <tr>\n",
       "      <th>70</th>\n",
       "      <td>0</td>\n",
       "      <td>1</td>\n",
       "      <td>0</td>\n",
       "    </tr>\n",
       "    <tr>\n",
       "      <th>15</th>\n",
       "      <td>0</td>\n",
       "      <td>1</td>\n",
       "      <td>0</td>\n",
       "    </tr>\n",
       "    <tr>\n",
       "      <th>45</th>\n",
       "      <td>0</td>\n",
       "      <td>1</td>\n",
       "      <td>0</td>\n",
       "    </tr>\n",
       "    <tr>\n",
       "      <th>88</th>\n",
       "      <td>0</td>\n",
       "      <td>1</td>\n",
       "      <td>0</td>\n",
       "    </tr>\n",
       "    <tr>\n",
       "      <th>40</th>\n",
       "      <td>0</td>\n",
       "      <td>1</td>\n",
       "      <td>0</td>\n",
       "    </tr>\n",
       "    <tr>\n",
       "      <th>12</th>\n",
       "      <td>0</td>\n",
       "      <td>1</td>\n",
       "      <td>0</td>\n",
       "    </tr>\n",
       "    <tr>\n",
       "      <th>72</th>\n",
       "      <td>0</td>\n",
       "      <td>1</td>\n",
       "      <td>0</td>\n",
       "    </tr>\n",
       "    <tr>\n",
       "      <th>55</th>\n",
       "      <td>0</td>\n",
       "      <td>1</td>\n",
       "      <td>0</td>\n",
       "    </tr>\n",
       "    <tr>\n",
       "      <th>80</th>\n",
       "      <td>0</td>\n",
       "      <td>1</td>\n",
       "      <td>0</td>\n",
       "    </tr>\n",
       "    <tr>\n",
       "      <th>18</th>\n",
       "      <td>0</td>\n",
       "      <td>1</td>\n",
       "      <td>0</td>\n",
       "    </tr>\n",
       "    <tr>\n",
       "      <th>90</th>\n",
       "      <td>0</td>\n",
       "      <td>1</td>\n",
       "      <td>0</td>\n",
       "    </tr>\n",
       "    <tr>\n",
       "      <th>31</th>\n",
       "      <td>0</td>\n",
       "      <td>1</td>\n",
       "      <td>0</td>\n",
       "    </tr>\n",
       "    <tr>\n",
       "      <th>22</th>\n",
       "      <td>0</td>\n",
       "      <td>1</td>\n",
       "      <td>0</td>\n",
       "    </tr>\n",
       "    <tr>\n",
       "      <th>44</th>\n",
       "      <td>0</td>\n",
       "      <td>0</td>\n",
       "      <td>1</td>\n",
       "    </tr>\n",
       "    <tr>\n",
       "      <th>26</th>\n",
       "      <td>0</td>\n",
       "      <td>0</td>\n",
       "      <td>1</td>\n",
       "    </tr>\n",
       "    <tr>\n",
       "      <th>97</th>\n",
       "      <td>0</td>\n",
       "      <td>0</td>\n",
       "      <td>1</td>\n",
       "    </tr>\n",
       "    <tr>\n",
       "      <th>91</th>\n",
       "      <td>0</td>\n",
       "      <td>0</td>\n",
       "      <td>1</td>\n",
       "    </tr>\n",
       "    <tr>\n",
       "      <th>104</th>\n",
       "      <td>0</td>\n",
       "      <td>0</td>\n",
       "      <td>1</td>\n",
       "    </tr>\n",
       "    <tr>\n",
       "      <th>64</th>\n",
       "      <td>0</td>\n",
       "      <td>0</td>\n",
       "      <td>1</td>\n",
       "    </tr>\n",
       "    <tr>\n",
       "      <th>62</th>\n",
       "      <td>0</td>\n",
       "      <td>0</td>\n",
       "      <td>1</td>\n",
       "    </tr>\n",
       "    <tr>\n",
       "      <th>47</th>\n",
       "      <td>0</td>\n",
       "      <td>0</td>\n",
       "      <td>1</td>\n",
       "    </tr>\n",
       "    <tr>\n",
       "      <th>42</th>\n",
       "      <td>0</td>\n",
       "      <td>0</td>\n",
       "      <td>1</td>\n",
       "    </tr>\n",
       "    <tr>\n",
       "      <th>4</th>\n",
       "      <td>0</td>\n",
       "      <td>0</td>\n",
       "      <td>1</td>\n",
       "    </tr>\n",
       "    <tr>\n",
       "      <th>96</th>\n",
       "      <td>0</td>\n",
       "      <td>0</td>\n",
       "      <td>1</td>\n",
       "    </tr>\n",
       "    <tr>\n",
       "      <th>55</th>\n",
       "      <td>0</td>\n",
       "      <td>0</td>\n",
       "      <td>1</td>\n",
       "    </tr>\n",
       "    <tr>\n",
       "      <th>22</th>\n",
       "      <td>0</td>\n",
       "      <td>0</td>\n",
       "      <td>1</td>\n",
       "    </tr>\n",
       "    <tr>\n",
       "      <th>70</th>\n",
       "      <td>0</td>\n",
       "      <td>0</td>\n",
       "      <td>1</td>\n",
       "    </tr>\n",
       "    <tr>\n",
       "      <th>114</th>\n",
       "      <td>0</td>\n",
       "      <td>0</td>\n",
       "      <td>1</td>\n",
       "    </tr>\n",
       "    <tr>\n",
       "      <th>18</th>\n",
       "      <td>0</td>\n",
       "      <td>0</td>\n",
       "      <td>1</td>\n",
       "    </tr>\n",
       "    <tr>\n",
       "      <th>31</th>\n",
       "      <td>0</td>\n",
       "      <td>0</td>\n",
       "      <td>1</td>\n",
       "    </tr>\n",
       "    <tr>\n",
       "      <th>88</th>\n",
       "      <td>0</td>\n",
       "      <td>0</td>\n",
       "      <td>1</td>\n",
       "    </tr>\n",
       "    <tr>\n",
       "      <th>12</th>\n",
       "      <td>0</td>\n",
       "      <td>0</td>\n",
       "      <td>1</td>\n",
       "    </tr>\n",
       "    <tr>\n",
       "      <th>73</th>\n",
       "      <td>0</td>\n",
       "      <td>0</td>\n",
       "      <td>1</td>\n",
       "    </tr>\n",
       "    <tr>\n",
       "      <th>65</th>\n",
       "      <td>0</td>\n",
       "      <td>0</td>\n",
       "      <td>1</td>\n",
       "    </tr>\n",
       "    <tr>\n",
       "      <th>10</th>\n",
       "      <td>0</td>\n",
       "      <td>0</td>\n",
       "      <td>1</td>\n",
       "    </tr>\n",
       "    <tr>\n",
       "      <th>89</th>\n",
       "      <td>0</td>\n",
       "      <td>0</td>\n",
       "      <td>1</td>\n",
       "    </tr>\n",
       "    <tr>\n",
       "      <th>76</th>\n",
       "      <td>0</td>\n",
       "      <td>0</td>\n",
       "      <td>1</td>\n",
       "    </tr>\n",
       "  </tbody>\n",
       "</table>\n",
       "</div>"
      ],
      "text/plain": [
       "     class_0  class_1  class_2\n",
       "8          1        0        0\n",
       "17         1        0        0\n",
       "50         1        0        0\n",
       "36         1        0        0\n",
       "57         1        0        0\n",
       "6          1        0        0\n",
       "13         1        0        0\n",
       "31         1        0        0\n",
       "48         1        0        0\n",
       "46         1        0        0\n",
       "52         1        0        0\n",
       "33         1        0        0\n",
       "44         0        1        0\n",
       "76         0        1        0\n",
       "39         0        1        0\n",
       "33         0        1        0\n",
       "30         0        1        0\n",
       "26         0        1        0\n",
       "53         0        1        0\n",
       "70         0        1        0\n",
       "15         0        1        0\n",
       "45         0        1        0\n",
       "88         0        1        0\n",
       "40         0        1        0\n",
       "12         0        1        0\n",
       "72         0        1        0\n",
       "55         0        1        0\n",
       "80         0        1        0\n",
       "18         0        1        0\n",
       "90         0        1        0\n",
       "31         0        1        0\n",
       "22         0        1        0\n",
       "44         0        0        1\n",
       "26         0        0        1\n",
       "97         0        0        1\n",
       "91         0        0        1\n",
       "104        0        0        1\n",
       "64         0        0        1\n",
       "62         0        0        1\n",
       "47         0        0        1\n",
       "42         0        0        1\n",
       "4          0        0        1\n",
       "96         0        0        1\n",
       "55         0        0        1\n",
       "22         0        0        1\n",
       "70         0        0        1\n",
       "114        0        0        1\n",
       "18         0        0        1\n",
       "31         0        0        1\n",
       "88         0        0        1\n",
       "12         0        0        1\n",
       "73         0        0        1\n",
       "65         0        0        1\n",
       "10         0        0        1\n",
       "89         0        0        1\n",
       "76         0        0        1"
      ]
     },
     "metadata": {},
     "execution_count": 147
    }
   ],
   "metadata": {}
  },
  {
   "cell_type": "code",
   "execution_count": 150,
   "source": [
    "def draw(d1,d2,d3):\n",
    "    plt.figure(figsize=(16, 10))\n",
    "    plt.plot(0,0,c='g', marker='.', label='1')\n",
    "    plt.grid()\n",
    "    for  data in [d1,d2,d3]:\n",
    "        for idx, row in data.iterrows():\n",
    "            if row['class'] == 0:\n",
    "                plt.scatter(row['x'], row['y'], c='g', marker='.')\n",
    "            elif row['class'] == 1:\n",
    "                plt.scatter(row['x'], row['y'], c='r', marker='^')\n",
    "            elif row['class'] == 2:\n",
    "                plt.scatter(row['x'], row['y'], c='b', marker='s')\n",
    "    plt.legend()\n",
    "    plt.show()"
   ],
   "outputs": [],
   "metadata": {}
  },
  {
   "cell_type": "code",
   "execution_count": 151,
   "source": [
    "draw(train,test,valid)"
   ],
   "outputs": [
    {
     "output_type": "display_data",
     "data": {
      "image/png": "[encoded data removed]",
      "text/plain": [
       "<Figure size 1152x720 with 1 Axes>"
      ]
     },
     "metadata": {
      "needs_background": "light"
     }
    }
   ],
   "metadata": {}
  },
  {
   "cell_type": "code",
   "execution_count": 152,
   "source": [
    "model = Sequential()\n",
    "model.add(Dense(20, input_shape=(2,), activation='sigmoid'))\n",
    "model.add(Dense(3, activation='sigmoid'))"
   ],
   "outputs": [],
   "metadata": {}
  },
  {
   "cell_type": "code",
   "execution_count": 175,
   "source": [
    "\n",
    "optimizer = tf.keras.optimizers.Adam(learning_rate=0.01)\n",
    "model.compile( loss='mse', optimizer=optimizer , metrics=[tf.keras.metrics.BinaryCrossentropy()])"
   ],
   "outputs": [],
   "metadata": {}
  },
  {
   "cell_type": "code",
   "execution_count": 99,
   "source": [
    "\n",
    "y = pd.get_dummies(train['class'])\n"
   ],
   "outputs": [],
   "metadata": {}
  },
  {
   "cell_type": "code",
   "execution_count": 189,
   "source": [
    "\n"
   ],
   "outputs": [],
   "metadata": {}
  },
  {
   "cell_type": "code",
   "execution_count": 193,
   "source": [
    "X = pd.concat([X_train, X_valid, X_test])\n",
    "Y = pd.concat([y_train, y_valid, y_test])"
   ],
   "outputs": [],
   "metadata": {}
  },
  {
   "cell_type": "code",
   "execution_count": 194,
   "source": [],
   "outputs": [
    {
     "output_type": "execute_result",
     "data": {
      "text/html": [
       "<div>\n",
       "<style scoped>\n",
       "    .dataframe tbody tr th:only-of-type {\n",
       "        vertical-align: middle;\n",
       "    }\n",
       "\n",
       "    .dataframe tbody tr th {\n",
       "        vertical-align: top;\n",
       "    }\n",
       "\n",
       "    .dataframe thead th {\n",
       "        text-align: right;\n",
       "    }\n",
       "</style>\n",
       "<table border=\"1\" class=\"dataframe\">\n",
       "  <thead>\n",
       "    <tr style=\"text-align: right;\">\n",
       "      <th></th>\n",
       "      <th>x</th>\n",
       "      <th>y</th>\n",
       "    </tr>\n",
       "  </thead>\n",
       "  <tbody>\n",
       "    <tr>\n",
       "      <th>40</th>\n",
       "      <td>-0.354179</td>\n",
       "      <td>0.161411</td>\n",
       "    </tr>\n",
       "    <tr>\n",
       "      <th>4</th>\n",
       "      <td>-0.997159</td>\n",
       "      <td>-0.075327</td>\n",
       "    </tr>\n",
       "    <tr>\n",
       "      <th>43</th>\n",
       "      <td>-0.850994</td>\n",
       "      <td>-0.525175</td>\n",
       "    </tr>\n",
       "    <tr>\n",
       "      <th>19</th>\n",
       "      <td>0.137790</td>\n",
       "      <td>-0.990461</td>\n",
       "    </tr>\n",
       "    <tr>\n",
       "      <th>34</th>\n",
       "      <td>-0.061496</td>\n",
       "      <td>-0.498067</td>\n",
       "    </tr>\n",
       "    <tr>\n",
       "      <th>...</th>\n",
       "      <td>...</td>\n",
       "      <td>...</td>\n",
       "    </tr>\n",
       "    <tr>\n",
       "      <th>11</th>\n",
       "      <td>0.389813</td>\n",
       "      <td>-0.415298</td>\n",
       "    </tr>\n",
       "    <tr>\n",
       "      <th>40</th>\n",
       "      <td>-0.698011</td>\n",
       "      <td>-0.037663</td>\n",
       "    </tr>\n",
       "    <tr>\n",
       "      <th>0</th>\n",
       "      <td>-0.657114</td>\n",
       "      <td>-0.172321</td>\n",
       "    </tr>\n",
       "    <tr>\n",
       "      <th>107</th>\n",
       "      <td>-0.375079</td>\n",
       "      <td>-0.422164</td>\n",
       "    </tr>\n",
       "    <tr>\n",
       "      <th>56</th>\n",
       "      <td>0.096885</td>\n",
       "      <td>-0.208754</td>\n",
       "    </tr>\n",
       "  </tbody>\n",
       "</table>\n",
       "<p>280 rows × 2 columns</p>\n",
       "</div>"
      ],
      "text/plain": [
       "            x         y\n",
       "40  -0.354179  0.161411\n",
       "4   -0.997159 -0.075327\n",
       "43  -0.850994 -0.525175\n",
       "19   0.137790 -0.990461\n",
       "34  -0.061496 -0.498067\n",
       "..        ...       ...\n",
       "11   0.389813 -0.415298\n",
       "40  -0.698011 -0.037663\n",
       "0   -0.657114 -0.172321\n",
       "107 -0.375079 -0.422164\n",
       "56   0.096885 -0.208754\n",
       "\n",
       "[280 rows x 2 columns]"
      ]
     },
     "metadata": {},
     "execution_count": 194
    }
   ],
   "metadata": {}
  },
  {
   "cell_type": "code",
   "execution_count": 176,
   "source": [
    "\n",
    "history = model.fit(X_train, y_train, epochs=20, verbose=0, shuffle=False)"
   ],
   "outputs": [],
   "metadata": {}
  },
  {
   "cell_type": "code",
   "execution_count": 177,
   "source": [
    "history.history"
   ],
   "outputs": [
    {
     "output_type": "execute_result",
     "data": {
      "text/plain": [
       "{'loss': [0.21444390714168549,\n",
       "  0.20437996089458466,\n",
       "  0.20299860835075378,\n",
       "  0.2028452455997467,\n",
       "  0.20317991077899933,\n",
       "  0.20367997884750366,\n",
       "  0.20416751503944397,\n",
       "  0.20456039905548096,\n",
       "  0.20483806729316711,\n",
       "  0.20501242578029633,\n",
       "  0.2051074504852295,\n",
       "  0.2051481455564499,\n",
       "  0.20515519380569458,\n",
       "  0.2051437944173813,\n",
       "  0.20512396097183228,\n",
       "  0.2051018923521042,\n",
       "  0.2050807923078537,\n",
       "  0.20506204664707184,\n",
       "  0.2050459384918213,\n",
       "  0.20503224432468414],\n",
       " 'binary_crossentropy': [0.6195561289787292,\n",
       "  0.5958394408226013,\n",
       "  0.5926266312599182,\n",
       "  0.5922703742980957,\n",
       "  0.5930479168891907,\n",
       "  0.5942150950431824,\n",
       "  0.595358669757843,\n",
       "  0.5962846875190735,\n",
       "  0.5969423055648804,\n",
       "  0.5973573923110962,\n",
       "  0.5975858569145203,\n",
       "  0.5976857542991638,\n",
       "  0.5977059602737427,\n",
       "  0.5976822376251221,\n",
       "  0.5976383686065674,\n",
       "  0.5975889563560486,\n",
       "  0.5975413918495178,\n",
       "  0.5974992513656616,\n",
       "  0.5974632501602173,\n",
       "  0.5974327921867371]}"
      ]
     },
     "metadata": {},
     "execution_count": 177
    }
   ],
   "metadata": {}
  },
  {
   "cell_type": "code",
   "execution_count": 178,
   "source": [
    "p = []\n",
    "\n",
    "\n",
    "\n",
    "\n",
    "predict_x=model.predict((train.iloc[:, :-1]))\n",
    "p.append(np.argmax(predict_x,axis=1))\n",
    "#p.append(model.predict(train.iloc[:, :-1]))\n",
    "accTrain = accuracy_score(train['class'], p[-1])\n",
    "mseTrain = mean_squared_error(train['class'], p[-1])\n",
    "\n",
    "\n",
    "predict_x=model.predict((test.iloc[:, :-1]))\n",
    "p.append(np.argmax(predict_x,axis=1))\n",
    "#p.append(model.predict(test.iloc[:, :-1]))\n",
    "accTest = accuracy_score(test['class'], p[-1])\n",
    "mseTest = mean_squared_error(test['class'], p[-1])\n",
    "\n",
    "\n",
    "predict_x=model.predict((valid.iloc[:, :-1]))\n",
    "p.append(np.argmax(predict_x,axis=1))\n",
    "#p.append(model.predict(valid.iloc[:, :-1]))\n",
    "accValid = accuracy_score(valid['class'], p[-1])\n",
    "mseValid = mean_squared_error(valid['class'], p[-1])"
   ],
   "outputs": [],
   "metadata": {}
  },
  {
   "cell_type": "code",
   "execution_count": 179,
   "source": [
    "p"
   ],
   "outputs": [
    {
     "output_type": "execute_result",
     "data": {
      "text/plain": [
       "[array([2, 2, 2, 2, 2, 2, 2, 2, 2, 2, 2, 2, 2, 2, 2, 2, 1, 2, 1, 2, 2, 2,\n",
       "        2, 1, 2, 2, 2, 2, 2, 2, 2, 2, 2, 2, 2, 1, 1, 2, 2, 2, 1, 1, 2, 2,\n",
       "        1, 2, 2, 1, 1, 2, 1, 2, 2, 1, 2, 2, 2, 1, 1, 1, 1, 1, 1, 2, 2, 2,\n",
       "        2, 2, 2, 2, 1, 2, 2, 2, 1, 1, 2, 1, 2, 1, 1, 1, 1, 1, 2, 2, 2, 1,\n",
       "        1, 2, 2, 1, 2, 1, 1, 2, 2, 1, 2, 1, 1, 2, 2, 2, 2, 2, 1, 2, 1, 1,\n",
       "        2, 2, 2, 2, 1, 2, 2, 2, 1, 2, 2, 2, 2, 2, 2, 1, 2, 2, 2, 2, 2, 2,\n",
       "        2, 2, 2, 2, 2, 2, 2, 2, 2, 2, 2, 2, 2, 2, 2, 1, 2, 2, 2, 1, 2, 2,\n",
       "        1, 2, 1, 2, 2, 2, 2, 2, 2, 2, 1, 2, 2, 2, 2, 1, 2, 1, 2, 2, 2, 2,\n",
       "        1, 1, 2, 2, 2, 2, 1, 2, 2, 2, 2, 2, 2, 2, 1, 2, 2, 2, 2, 2]),\n",
       " array([1, 2, 2, 1, 2, 2, 2, 1, 2, 2, 2, 2, 2, 2, 1, 2, 2, 2, 2, 2, 1, 2,\n",
       "        2, 2, 2, 2, 2, 2]),\n",
       " array([2, 2, 1, 1, 2, 2, 2, 2, 2, 2, 1, 1, 2, 2, 1, 2, 2, 2, 2, 2, 1, 2,\n",
       "        2, 1, 1, 1, 2, 2, 2, 1, 2, 2, 2, 2, 2, 2, 2, 2, 2, 2, 2, 2, 2, 2,\n",
       "        2, 2, 2, 2, 2, 2, 2, 2, 1, 2, 1, 2])]"
      ]
     },
     "metadata": {},
     "execution_count": 179
    }
   ],
   "metadata": {}
  },
  {
   "cell_type": "code",
   "execution_count": 180,
   "source": [
    "print('Train accuracy = {}'.format(accTrain))\n",
    "print(f'Train MSE = {mseTrain}')\n",
    "print(f'Train RMSE = {np.sqrt(mseTrain)}\\n')\n",
    "\n",
    "print('Test accuracy = {}'.format(accTest))\n",
    "print(f'Test MSE = {mseTest}')\n",
    "print(f'Test RMSE = {np.sqrt(mseTest)}\\n')\n",
    "\n",
    "print('Valid accuracy = {}'.format(accValid))\n",
    "print(f'Valid MSE = {mseValid}')\n",
    "print(f'Valid RMSE = {np.sqrt(mseValid)}')"
   ],
   "outputs": [
    {
     "output_type": "stream",
     "name": "stdout",
     "text": [
      "Train accuracy = 0.5153061224489796\n",
      "Train MSE = 1.0204081632653061\n",
      "Train RMSE = 1.0101525445522108\n",
      "\n",
      "Test accuracy = 0.4642857142857143\n",
      "Test MSE = 0.9642857142857143\n",
      "Test RMSE = 0.9819805060619657\n",
      "\n",
      "Valid accuracy = 0.5\n",
      "Valid MSE = 0.9285714285714286\n",
      "Valid RMSE = 0.9636241116594315\n"
     ]
    }
   ],
   "metadata": {}
  },
  {
   "cell_type": "code",
   "execution_count": 181,
   "source": [
    "plt.scatter(train['x'], train['y'], c=p[0], cmap=plt.cm.winter)\n",
    "plt.grid(True)\n",
    "plt.title('Train')\n",
    "plt.show()"
   ],
   "outputs": [
    {
     "output_type": "display_data",
     "data": {
      "image/png": "[encoded data removed]",
      "text/plain": [
       "<Figure size 432x288 with 1 Axes>"
      ]
     },
     "metadata": {
      "needs_background": "light"
     }
    }
   ],
   "metadata": {}
  },
  {
   "cell_type": "code",
   "execution_count": 182,
   "source": [
    "plt.scatter(test['x'], test['y'], c=p[1], cmap=plt.cm.winter)\n",
    "plt.grid(True)\n",
    "plt.title('Test')\n",
    "plt.show()"
   ],
   "outputs": [
    {
     "output_type": "display_data",
     "data": {
      "image/png": "[encoded data removed]",
      "text/plain": [
       "<Figure size 432x288 with 1 Axes>"
      ]
     },
     "metadata": {
      "needs_background": "light"
     }
    }
   ],
   "metadata": {}
  },
  {
   "cell_type": "code",
   "execution_count": 81,
   "source": [
    "plt.scatter(valid['x'], valid['y'], c=p[2], cmap=plt.cm.winter)\n",
    "plt.grid(True)\n",
    "plt.title('Valid')\n",
    "plt.show()"
   ],
   "outputs": [
    {
     "output_type": "display_data",
     "data": {
      "image/png": "[encoded data removed]",
      "text/plain": [
       "<Figure size 432x288 with 1 Axes>"
      ]
     },
     "metadata": {
      "needs_background": "light"
     }
    }
   ],
   "metadata": {}
  },
  {
   "cell_type": "code",
   "execution_count": 82,
   "source": [
    "h = 0.025\n",
    "x = np.arange(-1.2, 1.2 + h, h)\n",
    "y = np.arange(-1.2, 1.2 + h, h)"
   ],
   "outputs": [],
   "metadata": {}
  },
  {
   "cell_type": "code",
   "execution_count": 83,
   "source": [
    "predictions = [model.predict(np.array([[i, j]])).round(1) for i in x for j in y]"
   ],
   "outputs": [],
   "metadata": {}
  },
  {
   "cell_type": "code",
   "execution_count": 84,
   "source": [
    "xx, yy = np.meshgrid(x, y)"
   ],
   "outputs": [],
   "metadata": {}
  },
  {
   "cell_type": "code",
   "execution_count": 89,
   "source": [
    "colors = np.array(predictions).reshape((len(predictions), 3))\n",
    "colors.shape"
   ],
   "outputs": [
    {
     "output_type": "execute_result",
     "data": {
      "text/plain": [
       "(9409, 3)"
      ]
     },
     "metadata": {},
     "execution_count": 89
    }
   ],
   "metadata": {}
  },
  {
   "cell_type": "code",
   "execution_count": 90,
   "source": [
    "plt.scatter(yy, xx, c=colors, cmap=plt.cm.winter);\n",
    "plt.show()"
   ],
   "outputs": [
    {
     "output_type": "display_data",
     "data": {
      "image/png": "[encoded data removed]",
      "text/plain": [
       "<Figure size 432x288 with 1 Axes>"
      ]
     },
     "metadata": {
      "needs_background": "light"
     }
    }
   ],
   "metadata": {}
  }
 ],
 "metadata": {
  "orig_nbformat": 4,
  "language_info": {
   "name": "python",
   "version": "3.8.10",
   "mimetype": "text/x-python",
   "codemirror_mode": {
    "name": "ipython",
    "version": 3
   },
   "pygments_lexer": "ipython3",
   "nbconvert_exporter": "python",
   "file_extension": ".py"
  },
  "kernelspec": {
   "name": "python3",
   "display_name": "Python 3.8.10 64-bit"
  },
  "interpreter": {
   "hash": "31f2aee4e71d21fbe5cf8b01ff0e069b9275f58929596ceb00d14d90e3e16cd6"
  }
 },
 "nbformat": 4,
 "nbformat_minor": 2
}