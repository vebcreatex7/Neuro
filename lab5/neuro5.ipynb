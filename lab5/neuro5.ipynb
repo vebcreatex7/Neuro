{
  "nbformat": 4,
  "nbformat_minor": 0,
  "metadata": {
    "colab": {
      "name": "neuro5.ipynb",
      "provenance": [],
      "collapsed_sections": []
    },
    "kernelspec": {
      "name": "python3",
      "display_name": "Python 3"
    },
    "language_info": {
      "name": "python"
    }
  },
  "cells": [
    {
      "cell_type": "code",
      "source": [
        "!pip install neurolab\n",
        "!pip install neupy\n",
        "! pip install pyrenn"
      ],
      "metadata": {
        "colab": {
          "base_uri": "https://localhost:8080/"
        },
        "id": "zRxic5Y-4Kfc",
        "outputId": "56709a2d-a625-4b7c-81cb-63bb701972d0"
      },
      "execution_count": 615,
      "outputs": [
        {
          "output_type": "stream",
          "name": "stdout",
          "text": [
            "Requirement already satisfied: neurolab in /usr/local/lib/python3.7/dist-packages (0.3.5)\n",
            "Requirement already satisfied: neupy in /usr/local/lib/python3.7/dist-packages (0.8.2)\n",
            "Requirement already satisfied: graphviz==0.5.1 in /usr/local/lib/python3.7/dist-packages (from neupy) (0.5.1)\n",
            "Requirement already satisfied: scipy>=0.19.0 in /usr/local/lib/python3.7/dist-packages (from neupy) (1.4.1)\n",
            "Requirement already satisfied: tensorflow<1.14.0,>=1.10.1 in /usr/local/lib/python3.7/dist-packages (from neupy) (1.13.2)\n",
            "Requirement already satisfied: numpy>=1.13.3 in /usr/local/lib/python3.7/dist-packages (from neupy) (1.19.5)\n",
            "Requirement already satisfied: h5py in /usr/local/lib/python3.7/dist-packages (from neupy) (3.1.0)\n",
            "Requirement already satisfied: progressbar2==3.34.3 in /usr/local/lib/python3.7/dist-packages (from neupy) (3.34.3)\n",
            "Requirement already satisfied: matplotlib>=1.5.1 in /usr/local/lib/python3.7/dist-packages (from neupy) (3.2.2)\n",
            "Requirement already satisfied: python-utils>=2.1.0 in /usr/local/lib/python3.7/dist-packages (from progressbar2==3.34.3->neupy) (2.5.6)\n",
            "Requirement already satisfied: pyparsing!=2.0.4,!=2.1.2,!=2.1.6,>=2.0.1 in /usr/local/lib/python3.7/dist-packages (from matplotlib>=1.5.1->neupy) (3.0.6)\n",
            "Requirement already satisfied: python-dateutil>=2.1 in /usr/local/lib/python3.7/dist-packages (from matplotlib>=1.5.1->neupy) (2.8.2)\n",
            "Requirement already satisfied: cycler>=0.10 in /usr/local/lib/python3.7/dist-packages (from matplotlib>=1.5.1->neupy) (0.11.0)\n",
            "Requirement already satisfied: kiwisolver>=1.0.1 in /usr/local/lib/python3.7/dist-packages (from matplotlib>=1.5.1->neupy) (1.3.2)\n",
            "Requirement already satisfied: six>=1.5 in /usr/local/lib/python3.7/dist-packages (from python-dateutil>=2.1->matplotlib>=1.5.1->neupy) (1.15.0)\n",
            "Requirement already satisfied: tensorflow-estimator<1.14.0rc0,>=1.13.0 in /usr/local/lib/python3.7/dist-packages (from tensorflow<1.14.0,>=1.10.1->neupy) (1.13.0)\n",
            "Requirement already satisfied: termcolor>=1.1.0 in /usr/local/lib/python3.7/dist-packages (from tensorflow<1.14.0,>=1.10.1->neupy) (1.1.0)\n",
            "Requirement already satisfied: protobuf>=3.6.1 in /usr/local/lib/python3.7/dist-packages (from tensorflow<1.14.0,>=1.10.1->neupy) (3.17.3)\n",
            "Requirement already satisfied: tensorboard<1.14.0,>=1.13.0 in /usr/local/lib/python3.7/dist-packages (from tensorflow<1.14.0,>=1.10.1->neupy) (1.13.1)\n",
            "Requirement already satisfied: keras-applications>=1.0.6 in /usr/local/lib/python3.7/dist-packages (from tensorflow<1.14.0,>=1.10.1->neupy) (1.0.8)\n",
            "Requirement already satisfied: absl-py>=0.1.6 in /usr/local/lib/python3.7/dist-packages (from tensorflow<1.14.0,>=1.10.1->neupy) (0.12.0)\n",
            "Requirement already satisfied: grpcio>=1.8.6 in /usr/local/lib/python3.7/dist-packages (from tensorflow<1.14.0,>=1.10.1->neupy) (1.42.0)\n",
            "Requirement already satisfied: wheel>=0.26 in /usr/local/lib/python3.7/dist-packages (from tensorflow<1.14.0,>=1.10.1->neupy) (0.37.0)\n",
            "Requirement already satisfied: astor>=0.6.0 in /usr/local/lib/python3.7/dist-packages (from tensorflow<1.14.0,>=1.10.1->neupy) (0.8.1)\n",
            "Requirement already satisfied: keras-preprocessing>=1.0.5 in /usr/local/lib/python3.7/dist-packages (from tensorflow<1.14.0,>=1.10.1->neupy) (1.1.2)\n",
            "Requirement already satisfied: gast>=0.2.0 in /usr/local/lib/python3.7/dist-packages (from tensorflow<1.14.0,>=1.10.1->neupy) (0.4.0)\n",
            "Requirement already satisfied: markdown>=2.6.8 in /usr/local/lib/python3.7/dist-packages (from tensorboard<1.14.0,>=1.13.0->tensorflow<1.14.0,>=1.10.1->neupy) (3.3.6)\n",
            "Requirement already satisfied: werkzeug>=0.11.15 in /usr/local/lib/python3.7/dist-packages (from tensorboard<1.14.0,>=1.13.0->tensorflow<1.14.0,>=1.10.1->neupy) (1.0.1)\n",
            "Requirement already satisfied: importlib-metadata>=4.4 in /usr/local/lib/python3.7/dist-packages (from markdown>=2.6.8->tensorboard<1.14.0,>=1.13.0->tensorflow<1.14.0,>=1.10.1->neupy) (4.8.2)\n",
            "Requirement already satisfied: zipp>=0.5 in /usr/local/lib/python3.7/dist-packages (from importlib-metadata>=4.4->markdown>=2.6.8->tensorboard<1.14.0,>=1.13.0->tensorflow<1.14.0,>=1.10.1->neupy) (3.6.0)\n",
            "Requirement already satisfied: typing-extensions>=3.6.4 in /usr/local/lib/python3.7/dist-packages (from importlib-metadata>=4.4->markdown>=2.6.8->tensorboard<1.14.0,>=1.13.0->tensorflow<1.14.0,>=1.10.1->neupy) (3.10.0.2)\n",
            "Requirement already satisfied: mock>=2.0.0 in /usr/local/lib/python3.7/dist-packages (from tensorflow-estimator<1.14.0rc0,>=1.13.0->tensorflow<1.14.0,>=1.10.1->neupy) (4.0.3)\n",
            "Requirement already satisfied: cached-property in /usr/local/lib/python3.7/dist-packages (from h5py->neupy) (1.5.2)\n",
            "Requirement already satisfied: pyrenn in /usr/local/lib/python3.7/dist-packages (0.1)\n",
            "Requirement already satisfied: numpy in /usr/local/lib/python3.7/dist-packages (from pyrenn) (1.19.5)\n"
          ]
        }
      ]
    },
    {
      "cell_type": "code",
      "execution_count": 617,
      "metadata": {
        "id": "Sp_Q1ahQ3a0C"
      },
      "outputs": [],
      "source": [
        "import neurolab as nl\n",
        "import numpy as np\n",
        "import numpy.matlib\n",
        "from neupy import algorithms\n",
        "from scipy.spatial import distance\n",
        "import pylab as pl\n",
        "from sklearn.metrics import mean_squared_error\n",
        "import pyrenn\n",
        "import matplotlib.pyplot as plt"
      ]
    },
    {
      "cell_type": "markdown",
      "source": [
        "### Задание 1\n",
        "Использовать сеть Элмана для распознавания динамических образов."
      ],
      "metadata": {
        "id": "hVlC63U661qF"
      }
    },
    {
      "cell_type": "code",
      "source": [
        "p1_k = np.linspace(0, 1, int(1 / 0.025), endpoint=True)\n",
        "\n",
        "# Основной сигнал\n",
        "p1 = np.sin(4 * np.pi * p1_k)\n",
        "\n",
        "t1 = np.ones(len(p1_k)) * (-1)\n",
        "\n",
        "\n",
        "p2_k = np.linspace(0.92, 4.07, int(4.07 / 0.025), endpoint=True)\n",
        "\n",
        "# Сигнал, подлежащий распознаванию\n",
        "p2 = np.cos(-2. * p2_k * p2_k + 7. * p2_k)\n",
        "\n",
        "t2 = np.ones(len(p2_k))\n",
        "\n",
        "# Длительность основного сигнала\n",
        "R = np.array([2, 4, 7])"
      ],
      "metadata": {
        "id": "EkgQUZFZ65wG"
      },
      "execution_count": 618,
      "outputs": []
    },
    {
      "cell_type": "code",
      "source": [
        "p2 = p2.reshape(1, p2.shape[0])\n",
        "t2 = t2.reshape(1, t2.shape[0])"
      ],
      "metadata": {
        "id": "9onReFAO78DY"
      },
      "execution_count": 619,
      "outputs": []
    },
    {
      "cell_type": "markdown",
      "source": [
        "Определяем входное множество"
      ],
      "metadata": {
        "id": "7ya6ecvb7-2s"
      }
    },
    {
      "cell_type": "code",
      "source": [
        "\n",
        "P = np.concatenate((numpy.matlib.repmat(p1, 1, R[0]), p2,\n",
        "                    numpy.matlib.repmat(p1, 1, R[1]), p2,\n",
        "                    numpy.matlib.repmat(p1, 1, R[2]), p2), axis=1).reshape(-1, 1)\n",
        "\n",
        "T = np.concatenate((numpy.matlib.repmat(t1, 1, R[0]), t2,\n",
        "                    numpy.matlib.repmat(t1, 1, R[1]), t2,\n",
        "                    numpy.matlib.repmat(t1, 1, R[2]), t2), axis=1).reshape(-1, 1)"
      ],
      "metadata": {
        "id": "zWYH_vxj7_lY"
      },
      "execution_count": 620,
      "outputs": []
    },
    {
      "cell_type": "code",
      "source": [
        "P = P.reshape(len(P), 1)\n",
        "T = T.reshape(len(T), 1)"
      ],
      "metadata": {
        "id": "JaA71Xlp-wq1"
      },
      "execution_count": 621,
      "outputs": []
    },
    {
      "cell_type": "code",
      "source": [
        "pl.plot(T.reshape(T.shape))\n",
        "pl.plot(P.reshape(P.shape))\n",
        "pl.legend(['train target', 'train input'])\n",
        "pl.show()"
      ],
      "metadata": {
        "colab": {
          "base_uri": "https://localhost:8080/",
          "height": 265
        },
        "id": "Y_BWWoNYEJZ8",
        "outputId": "538635e7-a969-4199-b429-1f7406f2094b"
      },
      "execution_count": 623,
      "outputs": [
        {
          "output_type": "display_data",
          "data": {
            "image/png": "[encoded data removed]",
            "text/plain": [
              "<Figure size 432x288 with 1 Axes>"
            ]
          },
          "metadata": {
            "needs_background": "light"
          }
        }
      ]
    },
    {
      "cell_type": "code",
      "source": [
        "net = nl.net.newelm([[-1, 1]], [8, 1], [ nl.trans.TanSig(),nl.trans.TanSig()])"
      ],
      "metadata": {
        "id": "_uqL4sNJ_rld"
      },
      "execution_count": 854,
      "outputs": []
    },
    {
      "cell_type": "code",
      "source": [
        "net.layers[0].initf = nl.init.InitRand([-0.1, 0.1], 'wb')\n",
        "net.layers[1].initf = nl.init.InitRand([-0.1, 0.1], 'wb')\n",
        "net.init()"
      ],
      "metadata": {
        "id": "G2fSDnf3_vtp"
      },
      "execution_count": 855,
      "outputs": []
    },
    {
      "cell_type": "code",
      "source": [
        "error = net.train(P, T, epochs=10, show=10, goal=0.0001)"
      ],
      "metadata": {
        "colab": {
          "base_uri": "https://localhost:8080/"
        },
        "id": "gVz68T0s_xpg",
        "outputId": "4968a2d0-1345-404e-d507-6430d1e5fd50"
      },
      "execution_count": 862,
      "outputs": [
        {
          "output_type": "stream",
          "name": "stdout",
          "text": [
            "Epoch: 10; Error: 0.5949473732635141;\n",
            "The maximum number of train epochs is reached\n"
          ]
        }
      ]
    },
    {
      "cell_type": "code",
      "source": [
        "output = net.sim(P)"
      ],
      "metadata": {
        "id": "K2OBTNyW_0jR"
      },
      "execution_count": 863,
      "outputs": []
    },
    {
      "cell_type": "markdown",
      "source": [
        "Отобразим на графике этаонные значения и предсказанные сетью."
      ],
      "metadata": {
        "id": "e1qRFHwpdttE"
      }
    },
    {
      "cell_type": "code",
      "source": [
        "pl.plot(T)\n",
        "pl.plot(output)"
      ],
      "metadata": {
        "colab": {
          "base_uri": "https://localhost:8080/",
          "height": 282
        },
        "id": "fyZ-Tc5jOuaa",
        "outputId": "047d7b50-8aaf-415e-b2ca-25ce732ed4ac"
      },
      "execution_count": 864,
      "outputs": [
        {
          "output_type": "execute_result",
          "data": {
            "text/plain": [
              "[<matplotlib.lines.Line2D at 0x7fb99c37c650>]"
            ]
          },
          "metadata": {},
          "execution_count": 864
        },
        {
          "output_type": "display_data",
          "data": {
            "image/png": "[encoded data removed]",
            "text/plain": [
              "<Figure size 432x288 with 1 Axes>"
            ]
          },
          "metadata": {
            "needs_background": "light"
          }
        }
      ]
    },
    {
      "cell_type": "markdown",
      "source": [
        "Преобразуем предсказанные значения."
      ],
      "metadata": {
        "id": "CUvZ7S5FOIm7"
      }
    },
    {
      "cell_type": "code",
      "source": [
        "output[output >= 0] = 1.0\n",
        "output[output < 0] = -1.0"
      ],
      "metadata": {
        "id": "XDHyH3uSD9La"
      },
      "execution_count": 865,
      "outputs": []
    },
    {
      "cell_type": "code",
      "source": [
        "pl.plot(T)\n",
        "pl.plot(output)"
      ],
      "metadata": {
        "colab": {
          "base_uri": "https://localhost:8080/",
          "height": 282
        },
        "id": "73Apjs--D-2j",
        "outputId": "d36a6a79-4000-451b-e2a3-eda1b60542cb"
      },
      "execution_count": 866,
      "outputs": [
        {
          "output_type": "execute_result",
          "data": {
            "text/plain": [
              "[<matplotlib.lines.Line2D at 0x7fb99c365b10>]"
            ]
          },
          "metadata": {},
          "execution_count": 866
        },
        {
          "output_type": "display_data",
          "data": {
            "image/png": "[encoded data removed]",
            "text/plain": [
              "<Figure size 432x288 with 1 Axes>"
            ]
          },
          "metadata": {
            "needs_background": "light"
          }
        }
      ]
    },
    {
      "cell_type": "code",
      "source": [
        "print(\"Количество точек :\", len(T), sep=' ')\n",
        "print(\"Количество правильно классифицированных точек :\", (output == T).sum(), sep = ' ')\n",
        "print(\"Accuracy: \", (output == T).sum() / len(T))"
      ],
      "metadata": {
        "colab": {
          "base_uri": "https://localhost:8080/"
        },
        "id": "95DdgjRaWUyT",
        "outputId": "2e039090-6932-4135-943c-631137c460ac"
      },
      "execution_count": 877,
      "outputs": [
        {
          "output_type": "stream",
          "name": "stdout",
          "text": [
            "Количество точек : 1006\n",
            "Количество правильно классифицированных точек : 808\n",
            "Accuracy:  0.8031809145129225\n"
          ]
        }
      ]
    },
    {
      "cell_type": "markdown",
      "source": [
        "Для проверки качества распознавания сформируем новое обучающее множество, изменив одно из значений R."
      ],
      "metadata": {
        "id": "HM6Z_ZVh9bfV"
      }
    },
    {
      "cell_type": "code",
      "source": [
        "p1_k = np.linspace(0, 1, int(1 / 0.025), endpoint=True)\n",
        "\n",
        "# Основной сигнал\n",
        "p1 = np.sin(4 * np.pi * p1_k)\n",
        "\n",
        "t1 = np.ones(len(p1_k)) * (-1)\n",
        "\n",
        "\n",
        "p2_k = np.linspace(0.92, 4.07, int(4.07 / 0.025), endpoint=True)\n",
        "\n",
        "# Сигнал, подлежащий распознаванию\n",
        "p2 = np.cos(-2. * p2_k * p2_k + 7. * p2_k)\n",
        "\n",
        "t2 = np.ones(len(p2_k))\n",
        "\n",
        "# Длительность основного сигнала\n",
        "R = np.array([2,4,12])"
      ],
      "metadata": {
        "id": "IlczcUVR9aHA"
      },
      "execution_count": 869,
      "outputs": []
    },
    {
      "cell_type": "code",
      "source": [
        "p2 = p2.reshape(1, p2.shape[0])\n",
        "t2 = t2.reshape(1, t2.shape[0])\n",
        "\n",
        "P2 = np.concatenate((numpy.matlib.repmat(p1, 1, R[0]), p2,\n",
        "                    numpy.matlib.repmat(p1, 1, R[1]), p2,\n",
        "                    numpy.matlib.repmat(p1, 1, R[2]), p2), axis=1).reshape(-1, 1)\n",
        "\n",
        "T2 = np.concatenate((numpy.matlib.repmat(t1, 1, R[0]), t2,\n",
        "                    numpy.matlib.repmat(t1, 1, R[1]), t2,\n",
        "                    numpy.matlib.repmat(t1, 1, R[2]), t2), axis=1).reshape(-1, 1)"
      ],
      "metadata": {
        "id": "xJ3CKGlz9c5Q"
      },
      "execution_count": 870,
      "outputs": []
    },
    {
      "cell_type": "code",
      "source": [
        "pl.plot(T2.reshape(T2.shape[0]))\n",
        "pl.plot(P2.reshape(P2.shape[0]))\n",
        "pl.legend(['train target', 'train input'])\n",
        "pl.show()"
      ],
      "metadata": {
        "colab": {
          "base_uri": "https://localhost:8080/",
          "height": 265
        },
        "id": "NES7pQ3b9ehF",
        "outputId": "e90927be-cab1-4baa-b7e4-1432518b2105"
      },
      "execution_count": 871,
      "outputs": [
        {
          "output_type": "display_data",
          "data": {
            "image/png": "[encoded data removed]",
            "text/plain": [
              "<Figure size 432x288 with 1 Axes>"
            ]
          },
          "metadata": {
            "needs_background": "light"
          }
        }
      ]
    },
    {
      "cell_type": "code",
      "source": [
        "# Simulate network\n",
        "output2 = net.sim(P2)"
      ],
      "metadata": {
        "id": "VPZd1NgU9tQd"
      },
      "execution_count": 872,
      "outputs": []
    },
    {
      "cell_type": "code",
      "source": [
        "pl.plot(T2.reshape(T2.shape[0]))\n",
        "pl.plot(output2.reshape(output2.shape[0]))\n",
        "pl.legend(['train target', 'net output'])\n",
        "pl.show()"
      ],
      "metadata": {
        "colab": {
          "base_uri": "https://localhost:8080/",
          "height": 265
        },
        "id": "CPtN73d-9t_l",
        "outputId": "0447b1de-39eb-4687-ed96-59073340e0f5"
      },
      "execution_count": 873,
      "outputs": [
        {
          "output_type": "display_data",
          "data": {
            "image/png": "[encoded data removed]",
            "text/plain": [
              "<Figure size 432x288 with 1 Axes>"
            ]
          },
          "metadata": {
            "needs_background": "light"
          }
        }
      ]
    },
    {
      "cell_type": "code",
      "source": [
        "output2[output2 >= 0] = 1.0\n",
        "output2[output2 < 0] = -1.0"
      ],
      "metadata": {
        "id": "igNg86bdGkYP"
      },
      "execution_count": 874,
      "outputs": []
    },
    {
      "cell_type": "code",
      "source": [
        "pl.plot(T2.reshape(T2.shape[0]))\n",
        "pl.plot(output2.reshape(output2.shape[0]))\n",
        "pl.legend(['train target', 'net output'])\n",
        "pl.show()"
      ],
      "metadata": {
        "colab": {
          "base_uri": "https://localhost:8080/",
          "height": 265
        },
        "id": "XGLekdTGe0QJ",
        "outputId": "dec51780-1a24-4712-cf4e-3e124af25545"
      },
      "execution_count": 875,
      "outputs": [
        {
          "output_type": "display_data",
          "data": {
            "image/png": "[encoded data removed]",
            "text/plain": [
              "<Figure size 432x288 with 1 Axes>"
            ]
          },
          "metadata": {
            "needs_background": "light"
          }
        }
      ]
    },
    {
      "cell_type": "code",
      "source": [
        "print(\"Количество точек :\", len(T2), sep=' ')\n",
        "print(\"Количество правильно классифицированных точек :\", (output2 == T2).sum(), sep = ' ')\n",
        "print(\"Accuracy: \", (output2 == T2).sum() / len(T2))"
      ],
      "metadata": {
        "colab": {
          "base_uri": "https://localhost:8080/"
        },
        "id": "n_GxhT-be6Eq",
        "outputId": "7288cd97-ea45-4821-ce98-1fd10350ae62"
      },
      "execution_count": 878,
      "outputs": [
        {
          "output_type": "stream",
          "name": "stdout",
          "text": [
            "Количество точек : 1206\n",
            "Количество правильно классифицированных точек : 1008\n",
            "Accuracy:  0.835820895522388\n"
          ]
        }
      ]
    },
    {
      "cell_type": "markdown",
      "source": [
        "### Задание 2"
      ],
      "metadata": {
        "id": "R5VR0uCgGuTw"
      }
    },
    {
      "cell_type": "markdown",
      "source": [
        "Использовать сеть Хопфилда для распознавания статических образов.\n",
        "\n",
        "Формируем входные данные для сети Хопфилда\n",
        "\n",
        "Цветам точек соответствуют 0 и 1."
      ],
      "metadata": {
        "id": "BXSnWC6KHvPC"
      }
    },
    {
      "cell_type": "code",
      "source": [
        "zero = np.matrix([\n",
        "               0, 0, 0, 0, 0, 0, 0, 0, 0, 0,\n",
        "               0, 0, 0, 1, 1, 1, 1, 0, 0, 0,\n",
        "               0, 0, 1, 1, 1, 1, 1, 1, 0, 0,\n",
        "               0, 1, 1, 1, 0, 0, 1, 1, 1, 0,\n",
        "               0, 1, 1, 1, 0, 0, 1, 1, 1, 0,\n",
        "               0, 1, 1, 1, 0, 0, 1, 1, 1, 0,\n",
        "               0, 1, 1, 1, 0, 0, 1, 1, 1, 0,\n",
        "               0, 1, 1, 1, 0, 0, 1, 1, 1, 0,\n",
        "               0, 1, 1, 1, 0, 0, 1, 1, 1, 0,\n",
        "               0, 0, 1, 1, 1, 1, 1, 1, 0, 0,\n",
        "               0, 0, 0, 1, 1, 1, 1, 0, 0, 0,\n",
        "               0, 0, 0, 0, 0, 0, 0, 0, 0, 0])\n",
        "       \n",
        "one = np.matrix([\n",
        "                0, 0, 0, 1, 1, 1, 1, 0, 0, 0,\n",
        "                0, 0, 0, 1, 1, 1, 1, 0, 0, 0,\n",
        "                0, 0, 0, 1, 1, 1, 1, 0, 0, 0,\n",
        "                0, 0, 0, 1, 1, 1, 1, 0, 0, 0,\n",
        "                0, 0, 0, 1, 1, 1, 1, 0, 0, 0,\n",
        "                0, 0, 0, 1, 1, 1, 1, 0, 0, 0,\n",
        "                0, 0, 0, 1, 1, 1, 1, 0, 0, 0,\n",
        "                0, 0, 0, 1, 1, 1, 1, 0, 0, 0,\n",
        "                0, 0, 0, 1, 1, 1, 1, 0, 0, 0,\n",
        "                0, 0, 0, 1, 1, 1, 1, 0, 0, 0,\n",
        "                0, 0, 0, 1, 1, 1, 1, 0, 0, 0,\n",
        "                0, 0, 0, 1, 1, 1, 1, 0, 0, 0])\n",
        "       \n",
        "two = np.matrix([\n",
        "                1, 1, 1, 1, 1, 1, 1, 1, 0, 0,\n",
        "                1, 1, 1, 1, 1, 1, 1, 1, 0, 0,\n",
        "                0, 0, 0, 0, 0, 0, 1, 1, 0, 0,\n",
        "                0, 0, 0, 0, 0, 0, 1, 1, 0, 0,\n",
        "                0, 0, 0, 0, 0, 0, 1, 1, 0, 0,\n",
        "                1, 1, 1, 1, 1, 1, 1, 1, 0, 0,\n",
        "                1, 1, 1, 1, 1, 1, 1, 1, 0, 0,\n",
        "                1, 1, 0, 0, 0, 0, 0, 0, 0, 0,\n",
        "                1, 1, 0, 0, 0, 0, 0, 0, 0, 0,\n",
        "                1, 1, 0, 0, 0, 0, 0, 0, 0, 0,\n",
        "                1, 1, 1, 1, 1, 1, 1, 1, 0, 0,\n",
        "                1, 1, 1, 1, 1, 1, 1, 1, 0, 0])\n",
        "    \n",
        "three = np.matrix([\n",
        "                0, 0, 1, 1, 1, 1, 1, 1, 0, 0,\n",
        "                0, 0, 1, 1, 1, 1, 1, 1, 1, 0,\n",
        "                0, 0, 0, 0, 0, 0, 0, 1, 1, 0,\n",
        "                0, 0, 0, 0, 0, 0, 0, 1, 1, 0,\n",
        "                0, 0, 0, 0, 0, 0, 0, 1, 1, 0,\n",
        "                0, 0, 0, 0, 1, 1, 1, 1, 0, 0,\n",
        "                0, 0, 0, 0, 1, 1, 1, 1, 0, 0,\n",
        "                0, 0, 0, 0, 0, 0, 0, 1, 1, 0,\n",
        "                0, 0, 0, 0, 0, 0, 0, 1, 1, 0,\n",
        "                0, 0, 0, 0, 0, 0, 0, 1, 1, 0,\n",
        "                0, 0, 1, 1, 1, 1, 1, 1, 1, 0,\n",
        "                0, 0, 1, 1, 1, 1, 1, 1, 0, 0])\n",
        "       \n",
        "four = np.matrix([\n",
        "                0, 1, 1, 0, 0, 0, 0, 1, 1, 0,\n",
        "                0, 1, 1, 0, 0, 0, 0, 1, 1, 0,\n",
        "                0, 1, 1, 0, 0, 0, 0, 1, 1, 0,\n",
        "                0, 1, 1, 0, 0, 0, 0, 1, 1, 0,\n",
        "                0, 1, 1, 0, 0, 0, 0, 1, 1, 0,\n",
        "                0, 1, 1, 1, 1, 1, 1, 1, 1, 0,\n",
        "                0, 1, 1, 1, 1, 1, 1, 1, 1, 0,\n",
        "                0, 0, 0, 0, 0, 0, 0, 1, 1, 0,\n",
        "                0, 0, 0, 0, 0, 0, 0, 1, 1, 0,\n",
        "                0, 0, 0, 0, 0, 0, 0, 1, 1, 0,\n",
        "                0, 0, 0, 0, 0, 0, 0, 1, 1, 0,\n",
        "                0, 0, 0, 0, 0, 0, 0, 1, 1, 0])\n",
        "\n",
        "six = np.matrix([\n",
        "                1, 1, 1, 1, 1, 1, 0, 0, 0, 0,\n",
        "                1, 1, 1, 1, 1, 1, 0, 0, 0, 0, 1,\n",
        "                1, 0, 0, 0, 0, 0, 0, 0, 0, 1,\n",
        "                1, 0, 0, 0, 0, 0, 0, 0, 0,\n",
        "                1, 1, 1, 1, 1, 1, 0, 0, 0, 0,\n",
        "                1, 1, 1, 1, 1, 1, 0, 0, 0, 0,\n",
        "                1, 1, 0, 0, 1, 1, 0, 0, 0, 0,\n",
        "                1, 1, 0, 0, 1, 1, 0, 0, 0, 0,\n",
        "                1, 1, 0, 0, 1, 1, 0, 0, 0, 0,\n",
        "                1, 1, 0, 0, 1, 1, 0, 0, 0, 0,\n",
        "                1, 1, 1, 1, 1, 1, 0, 0, 0, 0,\n",
        "                1, 1, 1, 1, 1, 1, 0, 0, 0, 0])\n",
        "       \n",
        "nine = np.matrix([\n",
        "                0, 0, 0, 0, 1, 1, 1, 1, 1, 1,\n",
        "                0, 0, 0, 0, 1, 1, 1, 1, 1, 1,\n",
        "                0, 0, 0, 0, 1, 1, 0, 0, 1, 1,\n",
        "                0, 0, 0, 0, 1, 1, 0, 0, 1, 1,\n",
        "                0, 0, 0, 0, 1, 1, 0, 0, 1, 1,\n",
        "                0, 0, 0, 0, 1, 1, 0, 0, 1, 1,\n",
        "                0, 0, 0, 0, 1, 1, 1, 1, 1, 1,\n",
        "                0, 0, 0, 0, 1, 1, 1, 1, 1, 1,\n",
        "                0, 0, 0, 0, 0, 0, 0, 0, 1, 1,\n",
        "                0, 0, 0, 0, 0, 0, 0, 0, 1, 1,\n",
        "                0, 0, 0, 0, 1, 1, 1, 1, 1, 1,\n",
        "                0, 0, 0, 0, 1, 1, 1, 1, 1, 1])"
      ],
      "metadata": {
        "id": "1hBzP1UtHv5d"
      },
      "execution_count": 759,
      "outputs": []
    },
    {
      "cell_type": "code",
      "source": [
        "data = np.concatenate([one, six, four], axis=0)\n",
        "Four = four\n",
        "dhnet = algorithms.DiscreteHopfieldNetwork(mode = 'async', n_times = 600)\n",
        "dhnet.train(data)"
      ],
      "metadata": {
        "id": "KJsug0wGH5IE"
      },
      "execution_count": 760,
      "outputs": []
    },
    {
      "cell_type": "markdown",
      "source": [
        "Подаем в сеть первый образ."
      ],
      "metadata": {
        "id": "0eoL0KFzH_Uv"
      }
    },
    {
      "cell_type": "code",
      "source": [
        "def DrawBinImage(img):\n",
        "    for row in img.tolist():\n",
        "        print(' '.join(' *'[val] for val in row))"
      ],
      "metadata": {
        "id": "ckqEt6Rg7IOU"
      },
      "execution_count": 742,
      "outputs": []
    },
    {
      "cell_type": "code",
      "source": [
        "DrawBinImage(one.reshape(12,10))"
      ],
      "metadata": {
        "colab": {
          "base_uri": "https://localhost:8080/"
        },
        "id": "AQNkgE6a7JIL",
        "outputId": "8813ec98-91a3-46a4-eaa1-b3d61b610c82"
      },
      "execution_count": 743,
      "outputs": [
        {
          "output_type": "stream",
          "name": "stdout",
          "text": [
            "      * * * *      \n",
            "      * * * *      \n",
            "      * * * *      \n",
            "      * * * *      \n",
            "      * * * *      \n",
            "      * * * *      \n",
            "      * * * *      \n",
            "      * * * *      \n",
            "      * * * *      \n",
            "      * * * *      \n",
            "      * * * *      \n",
            "      * * * *      \n"
          ]
        }
      ]
    },
    {
      "cell_type": "code",
      "source": [
        "result = dhnet.predict(one)"
      ],
      "metadata": {
        "id": "KSlbKQv9IAVi"
      },
      "execution_count": 744,
      "outputs": []
    },
    {
      "cell_type": "code",
      "source": [
        "DrawBinImage(result.reshape(12, 10))"
      ],
      "metadata": {
        "colab": {
          "base_uri": "https://localhost:8080/"
        },
        "id": "c6tOxRNVIITH",
        "outputId": "d41d37de-4715-4816-dc36-1e5a81bc44b2"
      },
      "execution_count": 745,
      "outputs": [
        {
          "output_type": "stream",
          "name": "stdout",
          "text": [
            "      * * * *      \n",
            "      * * * *      \n",
            "      * * * *      \n",
            "      * * * *      \n",
            "      * * * *      \n",
            "      * * * *      \n",
            "      * * * *      \n",
            "      * * * *      \n",
            "      * * * *      \n",
            "      * * * *      \n",
            "      * * * *      \n",
            "      * * * *      \n"
          ]
        }
      ]
    },
    {
      "cell_type": "code",
      "source": [
        "Six = six\n",
        "def Noise(img, noisePercent):\n",
        "    limit = img.shape[1]\n",
        "    tmp = img.T\n",
        "    \n",
        "    for i in range(noisePercent):\n",
        "        pos = np.random.randint(1, limit, 1)[0]\n",
        "        tmp[pos] *= 0\n",
        "    res = tmp.T\n",
        "    return res"
      ],
      "metadata": {
        "id": "ZD0vZ_BUILJV"
      },
      "execution_count": 746,
      "outputs": []
    },
    {
      "cell_type": "markdown",
      "source": [
        "Зашумление второго образа на 20%"
      ],
      "metadata": {
        "id": "V0W257TqIqQS"
      }
    },
    {
      "cell_type": "code",
      "source": [
        "noiseSix = Noise(six, 20)\n",
        "\n",
        "DrawBinImage(noiseSix.reshape(12, 10))"
      ],
      "metadata": {
        "colab": {
          "base_uri": "https://localhost:8080/"
        },
        "id": "e3TM3ksaIODu",
        "outputId": "66934887-58de-4baa-8d75-48651448c57f"
      },
      "execution_count": 747,
      "outputs": [
        {
          "output_type": "stream",
          "name": "stdout",
          "text": [
            "* * * * * *        \n",
            "* * * * * *        \n",
            "* *                \n",
            "* *                \n",
            "* * * * * *        \n",
            "* * * * * *        \n",
            "*       * *        \n",
            "*       * *        \n",
            "* *                \n",
            "* *     * *        \n",
            "* *   * * *        \n",
            "  * * * *          \n"
          ]
        }
      ]
    },
    {
      "cell_type": "markdown",
      "source": [
        "Подаем второй зашумленный образ в сеть"
      ],
      "metadata": {
        "id": "IM0xUmWRI046"
      }
    },
    {
      "cell_type": "code",
      "source": [
        "result2 = dhnet.predict(noiseSix)\n",
        "DrawBinImage(result2.reshape(12, 10))"
      ],
      "metadata": {
        "colab": {
          "base_uri": "https://localhost:8080/"
        },
        "id": "UsLppkWRISaW",
        "outputId": "1030fc47-0e87-4dc0-d2aa-7b8f62a5d5d6"
      },
      "execution_count": 748,
      "outputs": [
        {
          "output_type": "stream",
          "name": "stdout",
          "text": [
            "* * * * * *        \n",
            "* * * * * *        \n",
            "* *                \n",
            "* *                \n",
            "* * * * * *        \n",
            "* * * * * *        \n",
            "* *     * *        \n",
            "* *     * *        \n",
            "* *     * *        \n",
            "* *     * *        \n",
            "* * * * * *        \n",
            "* * * * * *        \n"
          ]
        }
      ]
    },
    {
      "cell_type": "markdown",
      "source": [
        "Зашумление третьего образа на 30%"
      ],
      "metadata": {
        "id": "A4TRBnjcI2mg"
      }
    },
    {
      "cell_type": "code",
      "source": [
        "noiseFour = Noise(four, 30)\n",
        "DrawBinImage(noiseFour.reshape(12, 10))"
      ],
      "metadata": {
        "colab": {
          "base_uri": "https://localhost:8080/"
        },
        "id": "OG0zQ-uwI3If",
        "outputId": "42dcacbb-d714-4b5d-fc70-171aae4e4535"
      },
      "execution_count": 749,
      "outputs": [
        {
          "output_type": "stream",
          "name": "stdout",
          "text": [
            "  *             *  \n",
            "  * *         * *  \n",
            "  *           *    \n",
            "  * *           *  \n",
            "  * *         * *  \n",
            "  * * *   * * * *  \n",
            "  *   * * * * * *  \n",
            "              * *  \n",
            "                *  \n",
            "              *    \n",
            "                   \n",
            "              * *  \n"
          ]
        }
      ]
    },
    {
      "cell_type": "code",
      "source": [
        "result3 = dhnet.predict(noiseFour)\n",
        "DrawBinImage(result3.reshape(12, 10))"
      ],
      "metadata": {
        "colab": {
          "base_uri": "https://localhost:8080/"
        },
        "id": "BI71EwxtI9Da",
        "outputId": "8f8fc05f-4e90-4ad0-f645-41b84e105e82"
      },
      "execution_count": 750,
      "outputs": [
        {
          "output_type": "stream",
          "name": "stdout",
          "text": [
            "  * *         * *  \n",
            "  * *         * *  \n",
            "  * *         * *  \n",
            "  * *         * *  \n",
            "  * *         * *  \n",
            "  * * * * * * * *  \n",
            "  * * * * * * * *  \n",
            "              * *  \n",
            "              * *  \n",
            "              * *  \n",
            "              * *  \n",
            "              * *  \n"
          ]
        }
      ]
    },
    {
      "cell_type": "markdown",
      "source": [
        "### Задание 3\n",
        "Использовать сеть Хэмминга для распознавания статических образов."
      ],
      "metadata": {
        "id": "eie4k5uTJy5r"
      }
    },
    {
      "cell_type": "code",
      "source": [
        "zero = np.array([\n",
        "               -1, -1, -1, -1, -1, -1, -1, -1, -1, -1,\n",
        "               -1, -1, -1, 1, 1, 1, 1, -1, -1, -1,\n",
        "               -1, -1, 1, 1, 1, 1, 1, 1, -1, -1,\n",
        "               -1, 1, 1, 1, -1, -1, 1, 1, 1, -1,\n",
        "               -1, 1, 1, 1, -1, -1, 1, 1, 1, -1,\n",
        "               -1, 1, 1, 1, -1, -1, 1, 1, 1, -1,\n",
        "               -1, 1, 1, 1, -1, -1, 1, 1, 1, -1,\n",
        "               -1, 1, 1, 1, -1, -1, 1, 1, 1, -1,\n",
        "               -1, 1, 1, 1, -1, -1, 1, 1, 1, -1,\n",
        "               -1, -1, 1, 1, 1, 1, 1, 1, -1, -1,\n",
        "               -1, -1, -1, 1, 1, 1, 1, -1, -1, -1,\n",
        "               -1, -1, -1, -1, -1, -1, -1, -1, -1, -1])\n",
        "       \n",
        "one = np.array([\n",
        "                -1, -1, -1, 1, 1, 1, 1, -1, -1, -1,\n",
        "                -1, -1, -1, 1, 1, 1, 1, -1, -1, -1,\n",
        "                -1, -1, -1, 1, 1, 1, 1, -1, -1, -1,\n",
        "                -1, -1, -1, 1, 1, 1, 1, -1, -1, -1,\n",
        "                -1, -1, -1, 1, 1, 1, 1, -1, -1, -1,\n",
        "                -1, -1, -1, 1, 1, 1, 1, -1, -1, -1,\n",
        "                -1, -1, -1, 1, 1, 1, 1, -1, -1, -1,\n",
        "                -1, -1, -1, 1, 1, 1, 1, -1, -1, -1,\n",
        "                -1, -1, -1, 1, 1, 1, 1, -1, -1, -1,\n",
        "                -1, -1, -1, 1, 1, 1, 1, -1, -1, -1,\n",
        "                -1, -1, -1, 1, 1, 1, 1, -1, -1, -1,\n",
        "                -1, -1, -1, 1, 1, 1, 1, -1, -1, -1])\n",
        "       \n",
        "two = np.array([\n",
        "                1, 1, 1, 1, 1, 1, 1, 1, -1, -1,\n",
        "                1, 1, 1, 1, 1, 1, 1, 1, -1, -1,\n",
        "                -1, -1, -1, -1, -1, -1, 1, 1, -1, -1,\n",
        "                -1, -1, -1, -1, -1, -1, 1, 1, -1, -1,\n",
        "                -1, -1, -1, -1, -1, -1, 1, 1, -1, -1,\n",
        "                1, 1, 1, 1, 1, 1, 1, 1, -1, -1,\n",
        "                1, 1, 1, 1, 1, 1, 1, 1, -1, -1,\n",
        "                1, 1, -1, -1, -1, -1, -1, -1, -1, -1,\n",
        "                1, 1, -1, -1, -1, -1, -1, -1, -1, -1,\n",
        "                1, 1, -1, -1, -1, -1, -1, -1, -1, -1,\n",
        "                1, 1, 1, 1, 1, 1, 1, 1, -1, -1,\n",
        "                1, 1, 1, 1, 1, 1, 1, 1, -1, -1])\n",
        "    \n",
        "three = np.array([\n",
        "                -1, -1, 1, 1, 1, 1, 1, 1, -1, -1,\n",
        "                -1, -1, 1, 1, 1, 1, 1, 1, 1, -1,\n",
        "                -1, -1, -1, -1, -1, -1, -1, 1, 1, -1,\n",
        "                -1, -1, -1, -1, -1, -1, -1, 1, 1, -1,\n",
        "                -1, -1, -1, -1, -1, -1, -1, 1, 1, -1,\n",
        "                -1, -1, -1, -1, 1, 1, 1, 1, -1, -1,\n",
        "                -1, -1, -1, -1, 1, 1, 1, 1, -1, -1,\n",
        "                -1, -1, -1, -1, -1, -1, -1, 1, 1, -1,\n",
        "                -1, -1, -1, -1, -1, -1, -1, 1, 1, -1,\n",
        "                -1, -1, -1, -1, -1, -1, -1, 1, 1, -1,\n",
        "                -1, -1, 1, 1, 1, 1, 1, 1, 1, -1,\n",
        "                -1, -1, 1, 1, 1, 1, 1, 1, -1, -1])\n",
        "       \n",
        "four = np.array([\n",
        "                -1, 1, 1, -1, -1, -1, -1, 1, 1, -1,\n",
        "                -1, 1, 1, -1, -1, -1, -1, 1, 1, -1,\n",
        "                -1, 1, 1, -1, -1, -1, -1, 1, 1, -1,\n",
        "                -1, 1, 1, -1, -1, -1, -1, 1, 1, -1,\n",
        "                -1, 1, 1, -1, -1, -1, -1, 1, 1, -1,\n",
        "                -1, 1, 1, 1, 1, 1, 1, 1, 1, -1,\n",
        "                -1, 1, 1, 1, 1, 1, 1, 1, 1, -1,\n",
        "                -1, -1, -1, -1, -1, -1, -1, 1, 1, -1,\n",
        "                -1, -1, -1, -1, -1, -1, -1, 1, 1, -1,\n",
        "                -1, -1, -1, -1, -1, -1, -1, 1, 1, -1,\n",
        "                -1, -1, -1, -1, -1, -1, -1, 1, 1, -1,\n",
        "                -1, -1, -1, -1, -1, -1, -1, 1, 1, -1])\n",
        "\n",
        "six = np.array([\n",
        "                1, 1, 1, 1, 1, 1, -1, -1, -1, -1,\n",
        "                1, 1, 1, 1, 1, 1, -1, -1, -1, -1, 1,\n",
        "                1, -1, -1, -1, -1, -1, -1, -1, -1, 1,\n",
        "                1, -1, -1, -1, -1, -1, -1, -1, -1,\n",
        "                1, 1, 1, 1, 1, 1, -1, -1, -1, -1,\n",
        "                1, 1, 1, 1, 1, 1, -1, -1, -1, -1,\n",
        "                1, 1, -1, -1, 1, 1, -1, -1, -1, -1,\n",
        "                1, 1, -1, -1, 1, 1, -1, -1, -1, -1,\n",
        "                1, 1, -1, -1, 1, 1, -1, -1, -1, -1,\n",
        "                1, 1, -1, -1, 1, 1, -1, -1, -1, -1,\n",
        "                1, 1, 1, 1, 1, 1, -1, -1, -1, -1,\n",
        "                1, 1, 1, 1, 1, 1, -1, -1, -1, -1])\n",
        "       \n",
        "nine = np.array([\n",
        "                -1, -1, -1, -1, 1, 1, 1, 1, 1, 1,\n",
        "                -1, -1, -1, -1, 1, 1, 1, 1, 1, 1,\n",
        "                -1, -1, -1, -1, 1, 1, -1, -1, 1, 1,\n",
        "                -1, -1, -1, -1, 1, 1, -1, -1, 1, 1,\n",
        "                -1, -1, -1, -1, 1, 1, -1, -1, 1, 1,\n",
        "                -1, -1, -1, -1, 1, 1, -1, -1, 1, 1,\n",
        "                -1, -1, -1, -1, 1, 1, 1, 1, 1, 1,\n",
        "                -1, -1, -1, -1, 1, 1, 1, 1, 1, 1,\n",
        "                -1, -1, -1, -1, -1, -1, -1, -1, 1, 1,\n",
        "                -1, -1, -1, -1, -1, -1, -1, -1, 1, 1,\n",
        "                -1, -1, -1, -1, 1, 1, 1, 1, 1, 1,\n",
        "                -1, -1, -1, -1, 1, 1, 1, 1, 1, 1])\n",
        "\n",
        "\n",
        "Q = 7\n",
        "Patterns = np.array([zero, one, two, three, four, six, nine])\n",
        "eps = 1 / (Q - 1)\n",
        "\n",
        "Result = 10 * 12\n",
        "\n",
        "IW = np.array([zero.T, one.T, two.T, three.T, four.T, six.T, nine.T])\n",
        "b = Result * np.ones((Q, 1))\n",
        "\n",
        "a = np.zeros((Q, Q))\n",
        "for i in range(Q):\n",
        "    a[i] = IW[i] @ Patterns[i] + b[i]"
      ],
      "metadata": {
        "id": "RU96rL45JxUR"
      },
      "execution_count": 751,
      "outputs": []
    },
    {
      "cell_type": "code",
      "source": [
        "LW = np.eye(Q)\n",
        "LW[LW == 0.0] = -eps\n",
        "LW"
      ],
      "metadata": {
        "colab": {
          "base_uri": "https://localhost:8080/"
        },
        "id": "qIk32kCKKDyf",
        "outputId": "de71a898-8e1e-4db2-b01e-d582fd596c61"
      },
      "execution_count": 752,
      "outputs": [
        {
          "output_type": "execute_result",
          "data": {
            "text/plain": [
              "array([[ 1.        , -0.16666667, -0.16666667, -0.16666667, -0.16666667,\n",
              "        -0.16666667, -0.16666667],\n",
              "       [-0.16666667,  1.        , -0.16666667, -0.16666667, -0.16666667,\n",
              "        -0.16666667, -0.16666667],\n",
              "       [-0.16666667, -0.16666667,  1.        , -0.16666667, -0.16666667,\n",
              "        -0.16666667, -0.16666667],\n",
              "       [-0.16666667, -0.16666667, -0.16666667,  1.        , -0.16666667,\n",
              "        -0.16666667, -0.16666667],\n",
              "       [-0.16666667, -0.16666667, -0.16666667, -0.16666667,  1.        ,\n",
              "        -0.16666667, -0.16666667],\n",
              "       [-0.16666667, -0.16666667, -0.16666667, -0.16666667, -0.16666667,\n",
              "         1.        , -0.16666667],\n",
              "       [-0.16666667, -0.16666667, -0.16666667, -0.16666667, -0.16666667,\n",
              "        -0.16666667,  1.        ]])"
            ]
          },
          "metadata": {},
          "execution_count": 752
        }
      ]
    },
    {
      "cell_type": "code",
      "source": [
        "network = nl.net.newhop(a, max_init=600)\n",
        "\n",
        "network.layers[0].np['w'][:] = LW\n",
        "network.layers[0].np['b'][:] = 0"
      ],
      "metadata": {
        "id": "5TdFicEIKTg8"
      },
      "execution_count": 753,
      "outputs": []
    },
    {
      "cell_type": "code",
      "source": [
        "A = IW @ one + b\n",
        "A"
      ],
      "metadata": {
        "id": "owqPJQYVKVlu",
        "colab": {
          "base_uri": "https://localhost:8080/"
        },
        "outputId": "a6d3f1a9-2faa-4851-9820-b73ae183507b"
      },
      "execution_count": 754,
      "outputs": [
        {
          "output_type": "execute_result",
          "data": {
            "text/plain": [
              "array([[144., 240., 132., 140.,  84., 136., 136.],\n",
              "       [144., 240., 132., 140.,  84., 136., 136.],\n",
              "       [144., 240., 132., 140.,  84., 136., 136.],\n",
              "       [144., 240., 132., 140.,  84., 136., 136.],\n",
              "       [144., 240., 132., 140.,  84., 136., 136.],\n",
              "       [144., 240., 132., 140.,  84., 136., 136.],\n",
              "       [144., 240., 132., 140.,  84., 136., 136.]])"
            ]
          },
          "metadata": {},
          "execution_count": 754
        }
      ]
    },
    {
      "cell_type": "code",
      "source": [
        "res = network.sim(A)"
      ],
      "metadata": {
        "id": "69mfj3gOLJMC"
      },
      "execution_count": 755,
      "outputs": []
    },
    {
      "cell_type": "code",
      "source": [
        "answerClass = np.argmax(res[0])\n",
        "print('Result class: {}'.format(answerClass))"
      ],
      "metadata": {
        "id": "bIcJX561jihC",
        "colab": {
          "base_uri": "https://localhost:8080/"
        },
        "outputId": "0b40c488-9f7d-457f-a40b-ac397ce5f420"
      },
      "execution_count": 756,
      "outputs": [
        {
          "output_type": "stream",
          "name": "stdout",
          "text": [
            "Result class: 1\n"
          ]
        }
      ]
    },
    {
      "cell_type": "code",
      "source": [
        "check = Patterns[answerClass]\n",
        "check[check == -1] = 0\n",
        "DrawBinImage(check.reshape(12, 10))"
      ],
      "metadata": {
        "id": "yQZCHX8Cjj7B",
        "colab": {
          "base_uri": "https://localhost:8080/"
        },
        "outputId": "954ba9c3-cdd4-458e-d78e-af887ce44985"
      },
      "execution_count": 757,
      "outputs": [
        {
          "output_type": "stream",
          "name": "stdout",
          "text": [
            "      * * * *      \n",
            "      * * * *      \n",
            "      * * * *      \n",
            "      * * * *      \n",
            "      * * * *      \n",
            "      * * * *      \n",
            "      * * * *      \n",
            "      * * * *      \n",
            "      * * * *      \n",
            "      * * * *      \n",
            "      * * * *      \n",
            "      * * * *      \n"
          ]
        }
      ]
    },
    {
      "cell_type": "markdown",
      "source": [
        "Зашумленный на 20% второй образ"
      ],
      "metadata": {
        "id": "Qnj7Xr4zMJQ6"
      }
    },
    {
      "cell_type": "code",
      "source": [
        "noiseSixHam = np.asarray(noiseSix)[0]\n",
        "noiseSixHam[noiseSixHam == 0] = -1"
      ],
      "metadata": {
        "id": "yGzHK6OMPATz"
      },
      "execution_count": 726,
      "outputs": []
    },
    {
      "cell_type": "code",
      "source": [
        "A = IW @ noiseSixHam + b\n",
        "res = network.sim(A)\n",
        "\n",
        "answerClass = np.argmax(res[0])\n",
        "print('Result class: {}'.format(answerClass))\n",
        "\n",
        "check = Patterns[answerClass]\n",
        "check[check == -1] = 0\n",
        "DrawBinImage(check.reshape(12, 10))"
      ],
      "metadata": {
        "id": "2AeMhhMxMKfR",
        "colab": {
          "base_uri": "https://localhost:8080/"
        },
        "outputId": "ca2f5c53-7282-40a7-c72f-d2c5cdc690ca"
      },
      "execution_count": 739,
      "outputs": [
        {
          "output_type": "stream",
          "name": "stdout",
          "text": [
            "Result class: 6\n",
            "* * * * * *        \n",
            "* * * * * *        \n",
            "* *                \n",
            "* *                \n",
            "* * * * * *        \n",
            "* * * * * *        \n",
            "* *     * *        \n",
            "* *     * *        \n",
            "* *     * *        \n",
            "* *     * *        \n",
            "* * * * * *        \n",
            "* * * * * *        \n"
          ]
        }
      ]
    },
    {
      "cell_type": "markdown",
      "source": [
        "Зашумленный на 30% третий образ"
      ],
      "metadata": {
        "id": "KNmw2e2WOszv"
      }
    },
    {
      "cell_type": "code",
      "source": [
        "noiseFourHam = np.asarray(noiseFour)[0]\n",
        "noiseFourHam[noiseFourHam == 0] = -1"
      ],
      "metadata": {
        "id": "3NSdLLloPOYP"
      },
      "execution_count": 728,
      "outputs": []
    },
    {
      "cell_type": "code",
      "source": [
        "\n",
        "A = IW @ noiseFourHam + b\n",
        "res = network.sim(A)\n",
        "\n",
        "answerClass = np.argmax(res[0])\n",
        "print('Result class: {}'.format(answerClass))\n",
        "\n",
        "check = Patterns[answerClass]\n",
        "check[check == -1] = 0\n",
        "DrawBinImage(check.reshape(12, 10))"
      ],
      "metadata": {
        "id": "MKSsma2dMrNM",
        "colab": {
          "base_uri": "https://localhost:8080/"
        },
        "outputId": "e4208999-65cf-4d1b-81d2-71d3f02fc2d9"
      },
      "execution_count": 762,
      "outputs": [
        {
          "output_type": "stream",
          "name": "stdout",
          "text": [
            "Result class: 4\n",
            "  * *         * *  \n",
            "  * *         * *  \n",
            "  * *         * *  \n",
            "  * *         * *  \n",
            "  * *         * *  \n",
            "  * * * * * * * *  \n",
            "  * * * * * * * *  \n",
            "              * *  \n",
            "              * *  \n",
            "              * *  \n",
            "              * *  \n",
            "              * *  \n"
          ]
        }
      ]
    }
  ]
}